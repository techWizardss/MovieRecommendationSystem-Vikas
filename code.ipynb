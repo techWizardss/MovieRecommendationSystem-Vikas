{
 "cells": [
  {
   "cell_type": "code",
   "execution_count": 1,
   "metadata": {},
   "outputs": [],
   "source": [
    "import pandas as pd\n",
    "import numpy as np"
   ]
  },
  {
   "cell_type": "code",
   "execution_count": 2,
   "metadata": {},
   "outputs": [],
   "source": [
    "m=pd.read_csv(\"tmdb_5000_movies.csv\")\n",
    "c=pd.read_csv(\"tmdb_5000_credits.csv\")\n",
    "movies=pd.merge(m,c,on=\"title\")"
   ]
  },
  {
   "cell_type": "code",
   "execution_count": 3,
   "metadata": {},
   "outputs": [],
   "source": [
    "movies = movies[['movie_id', 'title', 'overview', 'genres',\n",
    "                 'keywords','cast', 'crew']]\n"
   ]
  },
  {
   "cell_type": "code",
   "execution_count": 4,
   "metadata": {},
   "outputs": [
    {
     "data": {
      "text/plain": [
       "0"
      ]
     },
     "execution_count": 4,
     "metadata": {},
     "output_type": "execute_result"
    }
   ],
   "source": [
    "movies.isnull().sum()\n",
    "movies.dropna(inplace=True)\n",
    "movies.duplicated().sum()\n"
   ]
  },
  {
   "cell_type": "code",
   "execution_count": 5,
   "metadata": {},
   "outputs": [
    {
     "data": {
      "text/plain": [
       "'[{\"id\": 28, \"name\": \"Action\"}, {\"id\": 12, \"name\": \"Adventure\"}, {\"id\": 14, \"name\": \"Fantasy\"}, {\"id\": 878, \"name\": \"Science Fiction\"}]'"
      ]
     },
     "execution_count": 5,
     "metadata": {},
     "output_type": "execute_result"
    }
   ],
   "source": [
    "movies.iloc[0].genres "
   ]
  },
  {
   "cell_type": "code",
   "execution_count": 6,
   "metadata": {},
   "outputs": [
    {
     "data": {
      "text/plain": [
       "<function ast.literal_eval(node_or_string)>"
      ]
     },
     "execution_count": 6,
     "metadata": {},
     "output_type": "execute_result"
    }
   ],
   "source": [
    "import ast\n",
    "ast.literal_eval"
   ]
  },
  {
   "cell_type": "code",
   "execution_count": 7,
   "metadata": {},
   "outputs": [],
   "source": [
    "\n",
    "def convert(obj):\n",
    "    L=[]\n",
    "    for i in obj:\n",
    "        L.append(i[\"name\"])\n",
    "    return L\n",
    "        \n"
   ]
  },
  {
   "cell_type": "code",
   "execution_count": 8,
   "metadata": {},
   "outputs": [
    {
     "data": {
      "text/plain": [
       "['Action', 'Adventure', 'Fantasy', 'Science Fiction']"
      ]
     },
     "execution_count": 8,
     "metadata": {},
     "output_type": "execute_result"
    }
   ],
   "source": [
    "L=convert([{\"id\": 28, \"name\": \"Action\"}, {\"id\": 12, \"name\": \"Adventure\"}, {\n",
    "        \"id\": 14, \"name\": \"Fantasy\"}, {\"id\": 878, \"name\": \"Science Fiction\"}])\n",
    "L\n"
   ]
  },
  {
   "cell_type": "code",
   "execution_count": 9,
   "metadata": {},
   "outputs": [],
   "source": [
    "\n",
    "def convert(obj):\n",
    "    L=[]\n",
    "    for i in ast.literal_eval(obj):\n",
    "        L.append(i[\"name\"])\n",
    "    return L\n",
    "        \n"
   ]
  },
  {
   "cell_type": "code",
   "execution_count": 10,
   "metadata": {},
   "outputs": [
    {
     "data": {
      "text/plain": [
       "['Action', 'Adventure', 'Fantasy', 'Science Fiction']"
      ]
     },
     "execution_count": 10,
     "metadata": {},
     "output_type": "execute_result"
    }
   ],
   "source": [
    "convert(movies.iloc[0].genres)\n"
   ]
  },
  {
   "cell_type": "code",
   "execution_count": 11,
   "metadata": {},
   "outputs": [
    {
     "data": {
      "text/plain": [
       "0       [Action, Adventure, Fantasy, Science Fiction]\n",
       "1                        [Adventure, Fantasy, Action]\n",
       "2                          [Action, Adventure, Crime]\n",
       "3                    [Action, Crime, Drama, Thriller]\n",
       "4                [Action, Adventure, Science Fiction]\n",
       "                            ...                      \n",
       "4804                        [Action, Crime, Thriller]\n",
       "4805                                [Comedy, Romance]\n",
       "4806               [Comedy, Drama, Romance, TV Movie]\n",
       "4807                                               []\n",
       "4808                                    [Documentary]\n",
       "Name: genres, Length: 4806, dtype: object"
      ]
     },
     "execution_count": 11,
     "metadata": {},
     "output_type": "execute_result"
    }
   ],
   "source": [
    "movies[\"genres\"].apply(convert)"
   ]
  },
  {
   "cell_type": "code",
   "execution_count": 12,
   "metadata": {},
   "outputs": [],
   "source": [
    "movies[\"genres\"]=movies[\"genres\"].apply(convert)"
   ]
  },
  {
   "cell_type": "code",
   "execution_count": 13,
   "metadata": {},
   "outputs": [],
   "source": [
    "movies[\"keywords\"]=movies[\"keywords\"].apply(convert)"
   ]
  },
  {
   "cell_type": "code",
   "execution_count": 14,
   "metadata": {},
   "outputs": [],
   "source": [
    "\n",
    "def convert(obj):\n",
    "    L = []\n",
    "    counter=8\n",
    "    for i in ast.literal_eval(obj):\n",
    "        if counter !=3:\n",
    "            L.append(i[\"name\"])\n",
    "            counter+=1\n",
    "        else:\n",
    "            break\n",
    "    return L\n"
   ]
  },
  {
   "cell_type": "code",
   "execution_count": 15,
   "metadata": {},
   "outputs": [
    {
     "data": {
      "text/plain": [
       "0       [Sam Worthington, Zoe Saldana, Sigourney Weave...\n",
       "1       [Johnny Depp, Orlando Bloom, Keira Knightley, ...\n",
       "2       [Daniel Craig, Christoph Waltz, Léa Seydoux, R...\n",
       "3       [Christian Bale, Michael Caine, Gary Oldman, A...\n",
       "4       [Taylor Kitsch, Lynn Collins, Samantha Morton,...\n",
       "                              ...                        \n",
       "4804    [Carlos Gallardo, Jaime de Hoyos, Peter Marqua...\n",
       "4805    [Edward Burns, Kerry Bishé, Marsha Dietlein, C...\n",
       "4806    [Eric Mabius, Kristin Booth, Crystal Lowe, Geo...\n",
       "4807    [Daniel Henney, Eliza Coupe, Bill Paxton, Alan...\n",
       "4808    [Drew Barrymore, Brian Herzlinger, Corey Feldm...\n",
       "Name: cast, Length: 4806, dtype: object"
      ]
     },
     "execution_count": 15,
     "metadata": {},
     "output_type": "execute_result"
    }
   ],
   "source": [
    "movies['cast'].apply(convert)\n"
   ]
  },
  {
   "cell_type": "code",
   "execution_count": 16,
   "metadata": {},
   "outputs": [],
   "source": [
    "movies['cast']=movies['cast'].apply(convert)"
   ]
  },
  {
   "cell_type": "code",
   "execution_count": 17,
   "metadata": {},
   "outputs": [
    {
     "data": {
      "text/plain": [
       "'[{\"credit_id\": \"52fe48009251416c750aca23\", \"department\": \"Editing\", \"gender\": 0, \"id\": 1721, \"job\": \"Editor\", \"name\": \"Stephen E. Rivkin\"}, {\"credit_id\": \"539c47ecc3a36810e3001f87\", \"department\": \"Art\", \"gender\": 2, \"id\": 496, \"job\": \"Production Design\", \"name\": \"Rick Carter\"}, {\"credit_id\": \"54491c89c3a3680fb4001cf7\", \"department\": \"Sound\", \"gender\": 0, \"id\": 900, \"job\": \"Sound Designer\", \"name\": \"Christopher Boyes\"}, {\"credit_id\": \"54491cb70e0a267480001bd0\", \"department\": \"Sound\", \"gender\": 0, \"id\": 900, \"job\": \"Supervising Sound Editor\", \"name\": \"Christopher Boyes\"}, {\"credit_id\": \"539c4a4cc3a36810c9002101\", \"department\": \"Production\", \"gender\": 1, \"id\": 1262, \"job\": \"Casting\", \"name\": \"Mali Finn\"}, {\"credit_id\": \"5544ee3b925141499f0008fc\", \"department\": \"Sound\", \"gender\": 2, \"id\": 1729, \"job\": \"Original Music Composer\", \"name\": \"James Horner\"}, {\"credit_id\": \"52fe48009251416c750ac9c3\", \"department\": \"Directing\", \"gender\": 2, \"id\": 2710, \"job\": \"Director\", \"name\": \"James Cameron\"}, {\"credit_id\": \"52fe48009251416c750ac9d9\", \"department\": \"Writing\", \"gender\": 2, \"id\": 2710, \"job\": \"Writer\", \"name\": \"James Cameron\"}, {\"credit_id\": \"52fe48009251416c750aca17\", \"department\": \"Editing\", \"gender\": 2, \"id\": 2710, \"job\": \"Editor\", \"name\": \"James Cameron\"}, {\"credit_id\": \"52fe48009251416c750aca29\", \"department\": \"Production\", \"gender\": 2, \"id\": 2710, \"job\": \"Producer\", \"name\": \"James Cameron\"}, {\"credit_id\": \"52fe48009251416c750aca3f\", \"department\": \"Writing\", \"gender\": 2, \"id\": 2710, \"job\": \"Screenplay\", \"name\": \"James Cameron\"}, {\"credit_id\": \"539c4987c3a36810ba0021a4\", \"department\": \"Art\", \"gender\": 2, \"id\": 7236, \"job\": \"Art Direction\", \"name\": \"Andrew Menzies\"}, {\"credit_id\": \"549598c3c3a3686ae9004383\", \"department\": \"Visual Effects\", \"gender\": 0, \"id\": 6690, \"job\": \"Visual Effects Producer\", \"name\": \"Jill Brooks\"}, {\"credit_id\": \"52fe48009251416c750aca4b\", \"department\": \"Production\", \"gender\": 1, \"id\": 6347, \"job\": \"Casting\", \"name\": \"Margery Simkin\"}, {\"credit_id\": \"570b6f419251417da70032fe\", \"department\": \"Art\", \"gender\": 2, \"id\": 6878, \"job\": \"Supervising Art Director\", \"name\": \"Kevin Ishioka\"}, {\"credit_id\": \"5495a0fac3a3686ae9004468\", \"department\": \"Sound\", \"gender\": 0, \"id\": 6883, \"job\": \"Music Editor\", \"name\": \"Dick Bernstein\"}, {\"credit_id\": \"54959706c3a3686af3003e81\", \"department\": \"Sound\", \"gender\": 0, \"id\": 8159, \"job\": \"Sound Effects Editor\", \"name\": \"Shannon Mills\"}, {\"credit_id\": \"54491d58c3a3680fb1001ccb\", \"department\": \"Sound\", \"gender\": 0, \"id\": 8160, \"job\": \"Foley\", \"name\": \"Dennie Thorpe\"}, {\"credit_id\": \"54491d6cc3a3680fa5001b2c\", \"department\": \"Sound\", \"gender\": 0, \"id\": 8163, \"job\": \"Foley\", \"name\": \"Jana Vance\"}, {\"credit_id\": \"52fe48009251416c750aca57\", \"department\": \"Costume & Make-Up\", \"gender\": 1, \"id\": 8527, \"job\": \"Costume Design\", \"name\": \"Deborah Lynn Scott\"}, {\"credit_id\": \"52fe48009251416c750aca2f\", \"department\": \"Production\", \"gender\": 2, \"id\": 8529, \"job\": \"Producer\", \"name\": \"Jon Landau\"}, {\"credit_id\": \"539c4937c3a36810ba002194\", \"department\": \"Art\", \"gender\": 0, \"id\": 9618, \"job\": \"Art Direction\", \"name\": \"Sean Haworth\"}, {\"credit_id\": \"539c49b6c3a36810c10020e6\", \"department\": \"Art\", \"gender\": 1, \"id\": 12653, \"job\": \"Set Decoration\", \"name\": \"Kim Sinclair\"}, {\"credit_id\": \"570b6f2f9251413a0e00020d\", \"department\": \"Art\", \"gender\": 1, \"id\": 12653, \"job\": \"Supervising Art Director\", \"name\": \"Kim Sinclair\"}, {\"credit_id\": \"54491a6c0e0a26748c001b19\", \"department\": \"Art\", \"gender\": 2, \"id\": 14350, \"job\": \"Set Designer\", \"name\": \"Richard F. Mays\"}, {\"credit_id\": \"56928cf4c3a3684cff0025c4\", \"department\": \"Production\", \"gender\": 1, \"id\": 20294, \"job\": \"Executive Producer\", \"name\": \"Laeta Kalogridis\"}, {\"credit_id\": \"52fe48009251416c750aca51\", \"department\": \"Costume & Make-Up\", \"gender\": 0, \"id\": 17675, \"job\": \"Costume Design\", \"name\": \"Mayes C. Rubeo\"}, {\"credit_id\": \"52fe48009251416c750aca11\", \"department\": \"Camera\", \"gender\": 2, \"id\": 18265, \"job\": \"Director of Photography\", \"name\": \"Mauro Fiore\"}, {\"credit_id\": \"5449194d0e0a26748f001b39\", \"department\": \"Art\", \"gender\": 0, \"id\": 42281, \"job\": \"Set Designer\", \"name\": \"Scott Herbertson\"}, {\"credit_id\": \"52fe48009251416c750aca05\", \"department\": \"Crew\", \"gender\": 0, \"id\": 42288, \"job\": \"Stunts\", \"name\": \"Woody Schultz\"}, {\"credit_id\": \"5592aefb92514152de0010f5\", \"department\": \"Costume & Make-Up\", \"gender\": 0, \"id\": 29067, \"job\": \"Makeup Artist\", \"name\": \"Linda DeVetta\"}, {\"credit_id\": \"5592afa492514152de00112c\", \"department\": \"Costume & Make-Up\", \"gender\": 0, \"id\": 29067, \"job\": \"Hairstylist\", \"name\": \"Linda DeVetta\"}, {\"credit_id\": \"54959ed592514130fc002e5d\", \"department\": \"Camera\", \"gender\": 2, \"id\": 33302, \"job\": \"Camera Operator\", \"name\": \"Richard Bluck\"}, {\"credit_id\": \"539c4891c3a36810ba002147\", \"department\": \"Art\", \"gender\": 2, \"id\": 33303, \"job\": \"Art Direction\", \"name\": \"Simon Bright\"}, {\"credit_id\": \"54959c069251417a81001f3a\", \"department\": \"Visual Effects\", \"gender\": 0, \"id\": 113145, \"job\": \"Visual Effects Supervisor\", \"name\": \"Richard Martin\"}, {\"credit_id\": \"54959a0dc3a3680ff5002c8d\", \"department\": \"Crew\", \"gender\": 2, \"id\": 58188, \"job\": \"Visual Effects Editor\", \"name\": \"Steve R. Moore\"}, {\"credit_id\": \"52fe48009251416c750aca1d\", \"department\": \"Editing\", \"gender\": 2, \"id\": 58871, \"job\": \"Editor\", \"name\": \"John Refoua\"}, {\"credit_id\": \"54491a4dc3a3680fc30018ca\", \"department\": \"Art\", \"gender\": 0, \"id\": 92359, \"job\": \"Set Designer\", \"name\": \"Karl J. Martin\"}, {\"credit_id\": \"52fe48009251416c750aca35\", \"department\": \"Camera\", \"gender\": 1, \"id\": 72201, \"job\": \"Director of Photography\", \"name\": \"Chiling Lin\"}, {\"credit_id\": \"52fe48009251416c750ac9ff\", \"department\": \"Crew\", \"gender\": 0, \"id\": 89714, \"job\": \"Stunts\", \"name\": \"Ilram Choi\"}, {\"credit_id\": \"54959c529251416e2b004394\", \"department\": \"Visual Effects\", \"gender\": 2, \"id\": 93214, \"job\": \"Visual Effects Supervisor\", \"name\": \"Steven Quale\"}, {\"credit_id\": \"54491edf0e0a267489001c37\", \"department\": \"Crew\", \"gender\": 1, \"id\": 122607, \"job\": \"Dialect Coach\", \"name\": \"Carla Meyer\"}, {\"credit_id\": \"539c485bc3a368653d001a3a\", \"department\": \"Art\", \"gender\": 2, \"id\": 132585, \"job\": \"Art Direction\", \"name\": \"Nick Bassett\"}, {\"credit_id\": \"539c4903c3a368653d001a74\", \"department\": \"Art\", \"gender\": 0, \"id\": 132596, \"job\": \"Art Direction\", \"name\": \"Jill Cormack\"}, {\"credit_id\": \"539c4967c3a368653d001a94\", \"department\": \"Art\", \"gender\": 0, \"id\": 132604, \"job\": \"Art Direction\", \"name\": \"Andy McLaren\"}, {\"credit_id\": \"52fe48009251416c750aca45\", \"department\": \"Crew\", \"gender\": 0, \"id\": 236696, \"job\": \"Motion Capture Artist\", \"name\": \"Terry Notary\"}, {\"credit_id\": \"54959e02c3a3680fc60027d2\", \"department\": \"Crew\", \"gender\": 2, \"id\": 956198, \"job\": \"Stunt Coordinator\", \"name\": \"Garrett Warren\"}, {\"credit_id\": \"54959ca3c3a3686ae300438c\", \"department\": \"Visual Effects\", \"gender\": 2, \"id\": 957874, \"job\": \"Visual Effects Supervisor\", \"name\": \"Jonathan Rothbart\"}, {\"credit_id\": \"570b6f519251412c74001b2f\", \"department\": \"Art\", \"gender\": 0, \"id\": 957889, \"job\": \"Supervising Art Director\", \"name\": \"Stefan Dechant\"}, {\"credit_id\": \"570b6f62c3a3680b77007460\", \"department\": \"Art\", \"gender\": 2, \"id\": 959555, \"job\": \"Supervising Art Director\", \"name\": \"Todd Cherniawsky\"}, {\"credit_id\": \"539c4a3ac3a36810da0021cc\", \"department\": \"Production\", \"gender\": 0, \"id\": 1016177, \"job\": \"Casting\", \"name\": \"Miranda Rivers\"}, {\"credit_id\": \"539c482cc3a36810c1002062\", \"department\": \"Art\", \"gender\": 0, \"id\": 1032536, \"job\": \"Production Design\", \"name\": \"Robert Stromberg\"}, {\"credit_id\": \"539c4b65c3a36810c9002125\", \"department\": \"Costume & Make-Up\", \"gender\": 2, \"id\": 1071680, \"job\": \"Costume Design\", \"name\": \"John Harding\"}, {\"credit_id\": \"54959e6692514130fc002e4e\", \"department\": \"Camera\", \"gender\": 0, \"id\": 1177364, \"job\": \"Steadicam Operator\", \"name\": \"Roberto De Angelis\"}, {\"credit_id\": \"539c49f1c3a368653d001aac\", \"department\": \"Costume & Make-Up\", \"gender\": 2, \"id\": 1202850, \"job\": \"Makeup Department Head\", \"name\": \"Mike Smithson\"}, {\"credit_id\": \"5495999ec3a3686ae100460c\", \"department\": \"Visual Effects\", \"gender\": 0, \"id\": 1204668, \"job\": \"Visual Effects Producer\", \"name\": \"Alain Lalanne\"}, {\"credit_id\": \"54959cdfc3a3681153002729\", \"department\": \"Visual Effects\", \"gender\": 0, \"id\": 1206410, \"job\": \"Visual Effects Supervisor\", \"name\": \"Lucas Salton\"}, {\"credit_id\": \"549596239251417a81001eae\", \"department\": \"Crew\", \"gender\": 0, \"id\": 1234266, \"job\": \"Post Production Supervisor\", \"name\": \"Janace Tashjian\"}, {\"credit_id\": \"54959c859251416e1e003efe\", \"department\": \"Visual Effects\", \"gender\": 0, \"id\": 1271932, \"job\": \"Visual Effects Supervisor\", \"name\": \"Stephen Rosenbaum\"}, {\"credit_id\": \"5592af28c3a368775a00105f\", \"department\": \"Costume & Make-Up\", \"gender\": 0, \"id\": 1310064, \"job\": \"Makeup Artist\", \"name\": \"Frankie Karena\"}, {\"credit_id\": \"539c4adfc3a36810e300203b\", \"department\": \"Costume & Make-Up\", \"gender\": 1, \"id\": 1319844, \"job\": \"Costume Supervisor\", \"name\": \"Lisa Lovaas\"}, {\"credit_id\": \"54959b579251416e2b004371\", \"department\": \"Visual Effects\", \"gender\": 0, \"id\": 1327028, \"job\": \"Visual Effects Supervisor\", \"name\": \"Jonathan Fawkner\"}, {\"credit_id\": \"539c48a7c3a36810b5001fa7\", \"department\": \"Art\", \"gender\": 0, \"id\": 1330561, \"job\": \"Art Direction\", \"name\": \"Robert Bavin\"}, {\"credit_id\": \"539c4a71c3a36810da0021e0\", \"department\": \"Costume & Make-Up\", \"gender\": 0, \"id\": 1330567, \"job\": \"Costume Supervisor\", \"name\": \"Anthony Almaraz\"}, {\"credit_id\": \"539c4a8ac3a36810ba0021e4\", \"department\": \"Costume & Make-Up\", \"gender\": 0, \"id\": 1330570, \"job\": \"Costume Supervisor\", \"name\": \"Carolyn M. Fenton\"}, {\"credit_id\": \"539c4ab6c3a36810da0021f0\", \"department\": \"Costume & Make-Up\", \"gender\": 0, \"id\": 1330574, \"job\": \"Costume Supervisor\", \"name\": \"Beth Koenigsberg\"}, {\"credit_id\": \"54491ab70e0a267480001ba2\", \"department\": \"Art\", \"gender\": 0, \"id\": 1336191, \"job\": \"Set Designer\", \"name\": \"Sam Page\"}, {\"credit_id\": \"544919d9c3a3680fc30018bd\", \"department\": \"Art\", \"gender\": 0, \"id\": 1339441, \"job\": \"Set Designer\", \"name\": \"Tex Kadonaga\"}, {\"credit_id\": \"54491cf50e0a267483001b0c\", \"department\": \"Editing\", \"gender\": 0, \"id\": 1352422, \"job\": \"Dialogue Editor\", \"name\": \"Kim Foscato\"}, {\"credit_id\": \"544919f40e0a26748c001b09\", \"department\": \"Art\", \"gender\": 0, \"id\": 1352962, \"job\": \"Set Designer\", \"name\": \"Tammy S. Lee\"}, {\"credit_id\": \"5495a115c3a3680ff5002d71\", \"department\": \"Crew\", \"gender\": 0, \"id\": 1357070, \"job\": \"Transportation Coordinator\", \"name\": \"Denny Caira\"}, {\"credit_id\": \"5495a12f92514130fc002e94\", \"department\": \"Crew\", \"gender\": 0, \"id\": 1357071, \"job\": \"Transportation Coordinator\", \"name\": \"James Waitkus\"}, {\"credit_id\": \"5495976fc3a36811530026b0\", \"department\": \"Sound\", \"gender\": 0, \"id\": 1360103, \"job\": \"Supervising Sound Editor\", \"name\": \"Addison Teague\"}, {\"credit_id\": \"54491837c3a3680fb1001c5a\", \"department\": \"Art\", \"gender\": 2, \"id\": 1376887, \"job\": \"Set Designer\", \"name\": \"C. Scott Baker\"}, {\"credit_id\": \"54491878c3a3680fb4001c9d\", \"department\": \"Art\", \"gender\": 0, \"id\": 1376888, \"job\": \"Set Designer\", \"name\": \"Luke Caska\"}, {\"credit_id\": \"544918dac3a3680fa5001ae0\", \"department\": \"Art\", \"gender\": 0, \"id\": 1376889, \"job\": \"Set Designer\", \"name\": \"David Chow\"}, {\"credit_id\": \"544919110e0a267486001b68\", \"department\": \"Art\", \"gender\": 0, \"id\": 1376890, \"job\": \"Set Designer\", \"name\": \"Jonathan Dyer\"}, {\"credit_id\": \"54491967c3a3680faa001b5e\", \"department\": \"Art\", \"gender\": 0, \"id\": 1376891, \"job\": \"Set Designer\", \"name\": \"Joseph Hiura\"}, {\"credit_id\": \"54491997c3a3680fb1001c8a\", \"department\": \"Art\", \"gender\": 0, \"id\": 1376892, \"job\": \"Art Department Coordinator\", \"name\": \"Rebecca Jellie\"}, {\"credit_id\": \"544919ba0e0a26748f001b42\", \"department\": \"Art\", \"gender\": 0, \"id\": 1376893, \"job\": \"Set Designer\", \"name\": \"Robert Andrew Johnson\"}, {\"credit_id\": \"54491b1dc3a3680faa001b8c\", \"department\": \"Art\", \"gender\": 0, \"id\": 1376895, \"job\": \"Assistant Art Director\", \"name\": \"Mike Stassi\"}, {\"credit_id\": \"54491b79c3a3680fbb001826\", \"department\": \"Art\", \"gender\": 0, \"id\": 1376897, \"job\": \"Construction Coordinator\", \"name\": \"John Villarino\"}, {\"credit_id\": \"54491baec3a3680fb4001ce6\", \"department\": \"Art\", \"gender\": 2, \"id\": 1376898, \"job\": \"Assistant Art Director\", \"name\": \"Jeffrey Wisniewski\"}, {\"credit_id\": \"54491d2fc3a3680fb4001d07\", \"department\": \"Editing\", \"gender\": 0, \"id\": 1376899, \"job\": \"Dialogue Editor\", \"name\": \"Cheryl Nardi\"}, {\"credit_id\": \"54491d86c3a3680fa5001b2f\", \"department\": \"Editing\", \"gender\": 0, \"id\": 1376901, \"job\": \"Dialogue Editor\", \"name\": \"Marshall Winn\"}, {\"credit_id\": \"54491d9dc3a3680faa001bb0\", \"department\": \"Sound\", \"gender\": 0, \"id\": 1376902, \"job\": \"Supervising Sound Editor\", \"name\": \"Gwendolyn Yates Whittle\"}, {\"credit_id\": \"54491dc10e0a267486001bce\", \"department\": \"Sound\", \"gender\": 0, \"id\": 1376903, \"job\": \"Sound Re-Recording Mixer\", \"name\": \"William Stein\"}, {\"credit_id\": \"54491f500e0a26747c001c07\", \"department\": \"Crew\", \"gender\": 0, \"id\": 1376909, \"job\": \"Choreographer\", \"name\": \"Lula Washington\"}, {\"credit_id\": \"549599239251412c4e002a2e\", \"department\": \"Visual Effects\", \"gender\": 0, \"id\": 1391692, \"job\": \"Visual Effects Producer\", \"name\": \"Chris Del Conte\"}, {\"credit_id\": \"54959d54c3a36831b8001d9a\", \"department\": \"Visual Effects\", \"gender\": 2, \"id\": 1391695, \"job\": \"Visual Effects Supervisor\", \"name\": \"R. Christopher White\"}, {\"credit_id\": \"54959bdf9251412c4e002a66\", \"department\": \"Visual Effects\", \"gender\": 0, \"id\": 1394070, \"job\": \"Visual Effects Supervisor\", \"name\": \"Dan Lemmon\"}, {\"credit_id\": \"5495971d92514132ed002922\", \"department\": \"Sound\", \"gender\": 0, \"id\": 1394129, \"job\": \"Sound Effects Editor\", \"name\": \"Tim Nielsen\"}, {\"credit_id\": \"5592b25792514152cc0011aa\", \"department\": \"Crew\", \"gender\": 0, \"id\": 1394286, \"job\": \"CG Supervisor\", \"name\": \"Michael Mulholland\"}, {\"credit_id\": \"54959a329251416e2b004355\", \"department\": \"Crew\", \"gender\": 0, \"id\": 1394750, \"job\": \"Visual Effects Editor\", \"name\": \"Thomas Nittmann\"}, {\"credit_id\": \"54959d6dc3a3686ae9004401\", \"department\": \"Visual Effects\", \"gender\": 0, \"id\": 1394755, \"job\": \"Visual Effects Supervisor\", \"name\": \"Edson Williams\"}, {\"credit_id\": \"5495a08fc3a3686ae300441c\", \"department\": \"Editing\", \"gender\": 0, \"id\": 1394953, \"job\": \"Digital Intermediate\", \"name\": \"Christine Carr\"}, {\"credit_id\": \"55402d659251413d6d000249\", \"department\": \"Visual Effects\", \"gender\": 0, \"id\": 1395269, \"job\": \"Visual Effects Supervisor\", \"name\": \"John Bruno\"}, {\"credit_id\": \"54959e7b9251416e1e003f3e\", \"department\": \"Camera\", \"gender\": 0, \"id\": 1398970, \"job\": \"Steadicam Operator\", \"name\": \"David Emmerichs\"}, {\"credit_id\": \"54959734c3a3686ae10045e0\", \"department\": \"Sound\", \"gender\": 0, \"id\": 1400906, \"job\": \"Sound Effects Editor\", \"name\": \"Christopher Scarabosio\"}, {\"credit_id\": \"549595dd92514130fc002d79\", \"department\": \"Production\", \"gender\": 0, \"id\": 1401784, \"job\": \"Production Supervisor\", \"name\": \"Jennifer Teves\"}, {\"credit_id\": \"549596009251413af70028cc\", \"department\": \"Production\", \"gender\": 0, \"id\": 1401785, \"job\": \"Production Manager\", \"name\": \"Brigitte Yorke\"}, {\"credit_id\": \"549596e892514130fc002d99\", \"department\": \"Sound\", \"gender\": 0, \"id\": 1401786, \"job\": \"Sound Effects Editor\", \"name\": \"Ken Fischer\"}, {\"credit_id\": \"549598229251412c4e002a1c\", \"department\": \"Crew\", \"gender\": 0, \"id\": 1401787, \"job\": \"Special Effects Coordinator\", \"name\": \"Iain Hutton\"}, {\"credit_id\": \"549598349251416e2b00432b\", \"department\": \"Crew\", \"gender\": 0, \"id\": 1401788, \"job\": \"Special Effects Coordinator\", \"name\": \"Steve Ingram\"}, {\"credit_id\": \"54959905c3a3686ae3004324\", \"department\": \"Visual Effects\", \"gender\": 0, \"id\": 1401789, \"job\": \"Visual Effects Producer\", \"name\": \"Joyce Cox\"}, {\"credit_id\": \"5495994b92514132ed002951\", \"department\": \"Visual Effects\", \"gender\": 0, \"id\": 1401790, \"job\": \"Visual Effects Producer\", \"name\": \"Jenny Foster\"}, {\"credit_id\": \"549599cbc3a3686ae1004613\", \"department\": \"Crew\", \"gender\": 0, \"id\": 1401791, \"job\": \"Visual Effects Editor\", \"name\": \"Christopher Marino\"}, {\"credit_id\": \"549599f2c3a3686ae100461e\", \"department\": \"Crew\", \"gender\": 0, \"id\": 1401792, \"job\": \"Visual Effects Editor\", \"name\": \"Jim Milton\"}, {\"credit_id\": \"54959a51c3a3686af3003eb5\", \"department\": \"Visual Effects\", \"gender\": 0, \"id\": 1401793, \"job\": \"Visual Effects Producer\", \"name\": \"Cyndi Ochs\"}, {\"credit_id\": \"54959a7cc3a36811530026f4\", \"department\": \"Crew\", \"gender\": 0, \"id\": 1401794, \"job\": \"Visual Effects Editor\", \"name\": \"Lucas Putnam\"}, {\"credit_id\": \"54959b91c3a3680ff5002cb4\", \"department\": \"Visual Effects\", \"gender\": 0, \"id\": 1401795, \"job\": \"Visual Effects Supervisor\", \"name\": \"Anthony \\'Max\\' Ivins\"}, {\"credit_id\": \"54959bb69251412c4e002a5f\", \"department\": \"Visual Effects\", \"gender\": 0, \"id\": 1401796, \"job\": \"Visual Effects Supervisor\", \"name\": \"John Knoll\"}, {\"credit_id\": \"54959cbbc3a3686ae3004391\", \"department\": \"Visual Effects\", \"gender\": 2, \"id\": 1401799, \"job\": \"Visual Effects Supervisor\", \"name\": \"Eric Saindon\"}, {\"credit_id\": \"54959d06c3a3686ae90043f6\", \"department\": \"Visual Effects\", \"gender\": 0, \"id\": 1401800, \"job\": \"Visual Effects Supervisor\", \"name\": \"Wayne Stables\"}, {\"credit_id\": \"54959d259251416e1e003f11\", \"department\": \"Visual Effects\", \"gender\": 0, \"id\": 1401801, \"job\": \"Visual Effects Supervisor\", \"name\": \"David Stinnett\"}, {\"credit_id\": \"54959db49251413af7002975\", \"department\": \"Visual Effects\", \"gender\": 0, \"id\": 1401803, \"job\": \"Visual Effects Supervisor\", \"name\": \"Guy Williams\"}, {\"credit_id\": \"54959de4c3a3681153002750\", \"department\": \"Crew\", \"gender\": 0, \"id\": 1401804, \"job\": \"Stunt Coordinator\", \"name\": \"Stuart Thorp\"}, {\"credit_id\": \"54959ef2c3a3680fc60027f2\", \"department\": \"Lighting\", \"gender\": 0, \"id\": 1401805, \"job\": \"Best Boy Electric\", \"name\": \"Giles Coburn\"}, {\"credit_id\": \"54959f07c3a3680fc60027f9\", \"department\": \"Camera\", \"gender\": 2, \"id\": 1401806, \"job\": \"Still Photographer\", \"name\": \"Mark Fellman\"}, {\"credit_id\": \"54959f47c3a3681153002774\", \"department\": \"Lighting\", \"gender\": 0, \"id\": 1401807, \"job\": \"Lighting Technician\", \"name\": \"Scott Sprague\"}, {\"credit_id\": \"54959f8cc3a36831b8001df2\", \"department\": \"Visual Effects\", \"gender\": 0, \"id\": 1401808, \"job\": \"Animation Director\", \"name\": \"Jeremy Hollobon\"}, {\"credit_id\": \"54959fa0c3a36831b8001dfb\", \"department\": \"Visual Effects\", \"gender\": 0, \"id\": 1401809, \"job\": \"Animation Director\", \"name\": \"Orlando Meunier\"}, {\"credit_id\": \"54959fb6c3a3686af3003f54\", \"department\": \"Visual Effects\", \"gender\": 0, \"id\": 1401810, \"job\": \"Animation Director\", \"name\": \"Taisuke Tanimura\"}, {\"credit_id\": \"54959fd2c3a36831b8001e02\", \"department\": \"Costume & Make-Up\", \"gender\": 0, \"id\": 1401812, \"job\": \"Set Costumer\", \"name\": \"Lilia Mishel Acevedo\"}, {\"credit_id\": \"54959ff9c3a3686ae300440c\", \"department\": \"Costume & Make-Up\", \"gender\": 0, \"id\": 1401814, \"job\": \"Set Costumer\", \"name\": \"Alejandro M. Hernandez\"}, {\"credit_id\": \"5495a0ddc3a3686ae10046fe\", \"department\": \"Editing\", \"gender\": 0, \"id\": 1401815, \"job\": \"Digital Intermediate\", \"name\": \"Marvin Hall\"}, {\"credit_id\": \"5495a1f7c3a3686ae3004443\", \"department\": \"Production\", \"gender\": 0, \"id\": 1401816, \"job\": \"Publicist\", \"name\": \"Judy Alley\"}, {\"credit_id\": \"5592b29fc3a36869d100002f\", \"department\": \"Crew\", \"gender\": 0, \"id\": 1418381, \"job\": \"CG Supervisor\", \"name\": \"Mike Perry\"}, {\"credit_id\": \"5592b23a9251415df8001081\", \"department\": \"Crew\", \"gender\": 0, \"id\": 1426854, \"job\": \"CG Supervisor\", \"name\": \"Andrew Morley\"}, {\"credit_id\": \"55491e1192514104c40002d8\", \"department\": \"Art\", \"gender\": 0, \"id\": 1438901, \"job\": \"Conceptual Design\", \"name\": \"Seth Engstrom\"}, {\"credit_id\": \"5525d5809251417276002b06\", \"department\": \"Crew\", \"gender\": 0, \"id\": 1447362, \"job\": \"Visual Effects Art Director\", \"name\": \"Eric Oliver\"}, {\"credit_id\": \"554427ca925141586500312a\", \"department\": \"Visual Effects\", \"gender\": 0, \"id\": 1447503, \"job\": \"Modeling\", \"name\": \"Matsune Suzuki\"}, {\"credit_id\": \"551906889251415aab001c88\", \"department\": \"Art\", \"gender\": 0, \"id\": 1447524, \"job\": \"Art Department Manager\", \"name\": \"Paul Tobin\"}, {\"credit_id\": \"5592af8492514152cc0010de\", \"department\": \"Costume & Make-Up\", \"gender\": 0, \"id\": 1452643, \"job\": \"Hairstylist\", \"name\": \"Roxane Griffin\"}, {\"credit_id\": \"553d3c109251415852001318\", \"department\": \"Lighting\", \"gender\": 0, \"id\": 1453938, \"job\": \"Lighting Artist\", \"name\": \"Arun Ram-Mohan\"}, {\"credit_id\": \"5592af4692514152d5001355\", \"department\": \"Costume & Make-Up\", \"gender\": 0, \"id\": 1457305, \"job\": \"Makeup Artist\", \"name\": \"Georgia Lockhart-Adams\"}, {\"credit_id\": \"5592b2eac3a36877470012a5\", \"department\": \"Crew\", \"gender\": 0, \"id\": 1466035, \"job\": \"CG Supervisor\", \"name\": \"Thrain Shadbolt\"}, {\"credit_id\": \"5592b032c3a36877450015f1\", \"department\": \"Crew\", \"gender\": 0, \"id\": 1483220, \"job\": \"CG Supervisor\", \"name\": \"Brad Alexander\"}, {\"credit_id\": \"5592b05592514152d80012f6\", \"department\": \"Crew\", \"gender\": 0, \"id\": 1483221, \"job\": \"CG Supervisor\", \"name\": \"Shadi Almassizadeh\"}, {\"credit_id\": \"5592b090c3a36877570010b5\", \"department\": \"Crew\", \"gender\": 0, \"id\": 1483222, \"job\": \"CG Supervisor\", \"name\": \"Simon Clutterbuck\"}, {\"credit_id\": \"5592b0dbc3a368774b00112c\", \"department\": \"Crew\", \"gender\": 0, \"id\": 1483223, \"job\": \"CG Supervisor\", \"name\": \"Graeme Demmocks\"}, {\"credit_id\": \"5592b0fe92514152db0010c1\", \"department\": \"Crew\", \"gender\": 0, \"id\": 1483224, \"job\": \"CG Supervisor\", \"name\": \"Adrian Fernandes\"}, {\"credit_id\": \"5592b11f9251415df8001059\", \"department\": \"Crew\", \"gender\": 0, \"id\": 1483225, \"job\": \"CG Supervisor\", \"name\": \"Mitch Gates\"}, {\"credit_id\": \"5592b15dc3a3687745001645\", \"department\": \"Crew\", \"gender\": 0, \"id\": 1483226, \"job\": \"CG Supervisor\", \"name\": \"Jerry Kung\"}, {\"credit_id\": \"5592b18e925141645a0004ae\", \"department\": \"Crew\", \"gender\": 0, \"id\": 1483227, \"job\": \"CG Supervisor\", \"name\": \"Andy Lomas\"}, {\"credit_id\": \"5592b1bfc3a368775d0010e7\", \"department\": \"Crew\", \"gender\": 0, \"id\": 1483228, \"job\": \"CG Supervisor\", \"name\": \"Sebastian Marino\"}, {\"credit_id\": \"5592b2049251415df8001078\", \"department\": \"Crew\", \"gender\": 0, \"id\": 1483229, \"job\": \"CG Supervisor\", \"name\": \"Matthias Menz\"}, {\"credit_id\": \"5592b27b92514152d800136a\", \"department\": \"Crew\", \"gender\": 0, \"id\": 1483230, \"job\": \"CG Supervisor\", \"name\": \"Sergei Nevshupov\"}, {\"credit_id\": \"5592b2c3c3a36869e800003c\", \"department\": \"Crew\", \"gender\": 0, \"id\": 1483231, \"job\": \"CG Supervisor\", \"name\": \"Philippe Rebours\"}, {\"credit_id\": \"5592b317c3a36877470012af\", \"department\": \"Crew\", \"gender\": 0, \"id\": 1483232, \"job\": \"CG Supervisor\", \"name\": \"Michael Takarangi\"}, {\"credit_id\": \"5592b345c3a36877470012bb\", \"department\": \"Crew\", \"gender\": 0, \"id\": 1483233, \"job\": \"CG Supervisor\", \"name\": \"David Weitzberg\"}, {\"credit_id\": \"5592b37cc3a368775100113b\", \"department\": \"Crew\", \"gender\": 0, \"id\": 1483234, \"job\": \"CG Supervisor\", \"name\": \"Ben White\"}, {\"credit_id\": \"573c8e2f9251413f5d000094\", \"department\": \"Crew\", \"gender\": 1, \"id\": 1621932, \"job\": \"Stunts\", \"name\": \"Min Windle\"}]'"
      ]
     },
     "execution_count": 17,
     "metadata": {},
     "output_type": "execute_result"
    }
   ],
   "source": [
    "movies['crew'][0]"
   ]
  },
  {
   "cell_type": "code",
   "execution_count": 18,
   "metadata": {},
   "outputs": [],
   "source": [
    "def fetch_director(obj):\n",
    "    L=[]\n",
    "    for i in ast.literal_eval(obj):\n",
    "        if i['job']=='Director':\n",
    "            L.append(i['name'])\n",
    "            break\n",
    "    return L"
   ]
  },
  {
   "cell_type": "code",
   "execution_count": 19,
   "metadata": {},
   "outputs": [
    {
     "data": {
      "text/plain": [
       "0           [James Cameron]\n",
       "1          [Gore Verbinski]\n",
       "2              [Sam Mendes]\n",
       "3       [Christopher Nolan]\n",
       "4          [Andrew Stanton]\n",
       "               ...         \n",
       "4804     [Robert Rodriguez]\n",
       "4805         [Edward Burns]\n",
       "4806          [Scott Smith]\n",
       "4807          [Daniel Hsia]\n",
       "4808     [Brian Herzlinger]\n",
       "Name: crew, Length: 4806, dtype: object"
      ]
     },
     "execution_count": 19,
     "metadata": {},
     "output_type": "execute_result"
    }
   ],
   "source": [
    "movies['crew'].apply(fetch_director)"
   ]
  },
  {
   "cell_type": "code",
   "execution_count": 20,
   "metadata": {},
   "outputs": [],
   "source": [
    "movies['crew']=movies['crew'].apply(fetch_director)"
   ]
  },
  {
   "cell_type": "code",
   "execution_count": 21,
   "metadata": {},
   "outputs": [
    {
     "data": {
      "text/plain": [
       "'In the 22nd century, a paraplegic Marine is dispatched to the moon Pandora on a unique mission, but becomes torn between following orders and protecting an alien civilization.'"
      ]
     },
     "execution_count": 21,
     "metadata": {},
     "output_type": "execute_result"
    }
   ],
   "source": [
    "movies['overview'][0]"
   ]
  },
  {
   "cell_type": "code",
   "execution_count": 22,
   "metadata": {},
   "outputs": [
    {
     "data": {
      "text/plain": [
       "0       [In, the, 22nd, century,, a, paraplegic, Marin...\n",
       "1       [Captain, Barbossa,, long, believed, to, be, d...\n",
       "2       [A, cryptic, message, from, Bond’s, past, send...\n",
       "3       [Following, the, death, of, District, Attorney...\n",
       "4       [John, Carter, is, a, war-weary,, former, mili...\n",
       "                              ...                        \n",
       "4804    [El, Mariachi, just, wants, to, play, his, gui...\n",
       "4805    [A, newlywed, couple's, honeymoon, is, upended...\n",
       "4806    [\"Signed,, Sealed,, Delivered\", introduces, a,...\n",
       "4807    [When, ambitious, New, York, attorney, Sam, is...\n",
       "4808    [Ever, since, the, second, grade, when, he, fi...\n",
       "Name: overview, Length: 4806, dtype: object"
      ]
     },
     "execution_count": 22,
     "metadata": {},
     "output_type": "execute_result"
    }
   ],
   "source": [
    "movies['overview'].apply(lambda x:x.split())"
   ]
  },
  {
   "cell_type": "code",
   "execution_count": 23,
   "metadata": {},
   "outputs": [],
   "source": [
    "movies['overview']=movies['overview'].apply(lambda x:x.split())"
   ]
  },
  {
   "cell_type": "code",
   "execution_count": 24,
   "metadata": {},
   "outputs": [
    {
     "data": {
      "text/plain": [
       "0       [Action, Adventure, Fantasy, ScienceFiction]\n",
       "1                       [Adventure, Fantasy, Action]\n",
       "2                         [Action, Adventure, Crime]\n",
       "3                   [Action, Crime, Drama, Thriller]\n",
       "4                [Action, Adventure, ScienceFiction]\n",
       "                            ...                     \n",
       "4804                       [Action, Crime, Thriller]\n",
       "4805                               [Comedy, Romance]\n",
       "4806               [Comedy, Drama, Romance, TVMovie]\n",
       "4807                                              []\n",
       "4808                                   [Documentary]\n",
       "Name: genres, Length: 4806, dtype: object"
      ]
     },
     "execution_count": 24,
     "metadata": {},
     "output_type": "execute_result"
    }
   ],
   "source": [
    "movies['genres'].apply(lambda x:[i.replace(\" \",\"\") for i in x])"
   ]
  },
  {
   "cell_type": "code",
   "execution_count": 25,
   "metadata": {},
   "outputs": [
    {
     "data": {
      "text/plain": [
       "0           [JamesCameron]\n",
       "1          [GoreVerbinski]\n",
       "2              [SamMendes]\n",
       "3       [ChristopherNolan]\n",
       "4          [AndrewStanton]\n",
       "               ...        \n",
       "4804     [RobertRodriguez]\n",
       "4805         [EdwardBurns]\n",
       "4806          [ScottSmith]\n",
       "4807          [DanielHsia]\n",
       "4808     [BrianHerzlinger]\n",
       "Name: crew, Length: 4806, dtype: object"
      ]
     },
     "execution_count": 25,
     "metadata": {},
     "output_type": "execute_result"
    }
   ],
   "source": [
    "movies['genres'].apply(lambda x:[i.replace(\" \",\"\") for i in x])\n",
    "movies['keywords'].apply(lambda x:[i.replace(\" \",\"\") for i in x])\n",
    "movies['cast'].apply(lambda x:[i.replace(\" \",\"\") for i in x])\n",
    "movies['crew'].apply(lambda x:[i.replace(\" \",\"\") for i in x])"
   ]
  },
  {
   "cell_type": "code",
   "execution_count": 26,
   "metadata": {},
   "outputs": [],
   "source": [
    "movies['tags']=movies['overview']+movies['genres']+movies['keywords']+movies['cast']+movies['crew']"
   ]
  },
  {
   "cell_type": "code",
   "execution_count": 27,
   "metadata": {},
   "outputs": [],
   "source": [
    "new_df=movies[['movie_id','title','tags']]"
   ]
  },
  {
   "cell_type": "code",
   "execution_count": 28,
   "metadata": {},
   "outputs": [
    {
     "name": "stderr",
     "output_type": "stream",
     "text": [
      "C:\\Users\\163544\\AppData\\Local\\Temp\\ipykernel_6952\\487797088.py:1: SettingWithCopyWarning: \n",
      "A value is trying to be set on a copy of a slice from a DataFrame.\n",
      "Try using .loc[row_indexer,col_indexer] = value instead\n",
      "\n",
      "See the caveats in the documentation: https://pandas.pydata.org/pandas-docs/stable/user_guide/indexing.html#returning-a-view-versus-a-copy\n",
      "  new_df['tags']=new_df['tags'].apply(lambda x:\" \".join(x))\n"
     ]
    }
   ],
   "source": [
    "new_df['tags']=new_df['tags'].apply(lambda x:\" \".join(x))"
   ]
  },
  {
   "cell_type": "code",
   "execution_count": 29,
   "metadata": {},
   "outputs": [
    {
     "data": {
      "text/plain": [
       "'In the 22nd century, a paraplegic Marine is dispatched to the moon Pandora on a unique mission, but becomes torn between following orders and protecting an alien civilization. Action Adventure Fantasy Science Fiction culture clash future space war space colony society space travel futuristic romance space alien tribe alien planet cgi marine soldier battle love affair anti war power relations mind and soul 3d Sam Worthington Zoe Saldana Sigourney Weaver Stephen Lang Michelle Rodriguez Giovanni Ribisi Joel David Moore CCH Pounder Wes Studi Laz Alonso Dileep Rao Matt Gerald Sean Anthony Moran Jason Whyte Scott Lawrence Kelly Kilgour James Patrick Pitt Sean Patrick Murphy Peter Dillon Kevin Dorman Kelson Henderson David Van Horn Jacob Tomuri Michael Blain-Rozgay Jon Curry Luke Hawker Woody Schultz Peter Mensah Sonia Yee Jahnel Curfman Ilram Choi Kyla Warren Lisa Roumain Debra Wilson Chris Mala Taylor Kibby Jodie Landau Julie Lamm Cullen B. Madden Joseph Brady Madden Frankie Torres Austin Wilson Sara Wilson Tamica Washington-Miller Lucy Briant Nathan Meister Gerry Blair Matthew Chamberlain Paul Yates Wray Wilson James Gaylyn Melvin Leno Clark III Carvon Futrell Brandon Jelkes Micah Moch Hanniyah Muhammad Christopher Nolen Christa Oliver April Marie Thomas Bravita A. Threatt Colin Bleasdale Mike Bodnar Matt Clayton Nicole Dionne Jamie Harrison Allan Henry Anthony Ingruber Ashley Jeffery Dean Knowsley Joseph Mika-Hunt Terry Notary Kai Pantano Logan Pithyou Stuart Pollock Raja Gareth Ruck Rhian Sheehan T. J. Storm Jodie Taylor Alicia Vela-Bailey Richard Whiteside Nikie Zambo Julene Renee James Cameron'"
      ]
     },
     "execution_count": 29,
     "metadata": {},
     "output_type": "execute_result"
    }
   ],
   "source": [
    "new_df['tags'][0]"
   ]
  },
  {
   "cell_type": "code",
   "execution_count": 30,
   "metadata": {},
   "outputs": [
    {
     "data": {
      "text/plain": [
       "0       in the 22nd century, a paraplegic marine is di...\n",
       "1       captain barbossa, long believed to be dead, ha...\n",
       "2       a cryptic message from bond’s past sends him o...\n",
       "3       following the death of district attorney harve...\n",
       "4       john carter is a war-weary, former military ca...\n",
       "                              ...                        \n",
       "4804    el mariachi just wants to play his guitar and ...\n",
       "4805    a newlywed couple's honeymoon is upended by th...\n",
       "4806    \"signed, sealed, delivered\" introduces a dedic...\n",
       "4807    when ambitious new york attorney sam is sent t...\n",
       "4808    ever since the second grade when he first saw ...\n",
       "Name: tags, Length: 4806, dtype: object"
      ]
     },
     "execution_count": 30,
     "metadata": {},
     "output_type": "execute_result"
    }
   ],
   "source": [
    "new_df['tags'].apply(lambda x:x.lower())"
   ]
  },
  {
   "cell_type": "code",
   "execution_count": 31,
   "metadata": {},
   "outputs": [
    {
     "name": "stderr",
     "output_type": "stream",
     "text": [
      "C:\\Users\\163544\\AppData\\Local\\Temp\\ipykernel_6952\\4224080999.py:1: SettingWithCopyWarning: \n",
      "A value is trying to be set on a copy of a slice from a DataFrame.\n",
      "Try using .loc[row_indexer,col_indexer] = value instead\n",
      "\n",
      "See the caveats in the documentation: https://pandas.pydata.org/pandas-docs/stable/user_guide/indexing.html#returning-a-view-versus-a-copy\n",
      "  new_df['tags']=new_df['tags'].apply(lambda x:x.lower())\n"
     ]
    }
   ],
   "source": [
    "new_df['tags']=new_df['tags'].apply(lambda x:x.lower())"
   ]
  },
  {
   "cell_type": "code",
   "execution_count": 32,
   "metadata": {},
   "outputs": [
    {
     "data": {
      "text/plain": [
       "\"captain barbossa, long believed to be dead, has come back to life and is headed to the edge of the earth with will turner and elizabeth swann. but nothing is quite as it seems. adventure fantasy action ocean drug abuse exotic island east india trading company love of one's life traitor shipwreck strong woman ship alliance calypso afterlife fighter pirate swashbuckler aftercreditsstinger johnny depp orlando bloom keira knightley stellan skarsgård chow yun-fat bill nighy geoffrey rush jack davenport kevin mcnally tom hollander naomie harris jonathan pryce keith richards lee arenberg mackenzie crook greg ellis david bailie martin klebba david schofield lauren maher vanessa branch angus barnett giles new reggie lee dominic scott kay takayo fischer david meunier ho-kwan tse andy beckwith peter donald badalamenti ii christopher s. capp keith richards hakeem kae-kazim ghassan massoud gore verbinski\""
      ]
     },
     "execution_count": 32,
     "metadata": {},
     "output_type": "execute_result"
    }
   ],
   "source": [
    "new_df['tags'][1]"
   ]
  },
  {
   "cell_type": "code",
   "execution_count": 33,
   "metadata": {},
   "outputs": [],
   "source": [
    "from sklearn.feature_extraction.text import CountVectorizer\n",
    "cv = CountVectorizer(max_features=5000, stop_words='english')\n"
   ]
  },
  {
   "cell_type": "code",
   "execution_count": 34,
   "metadata": {},
   "outputs": [
    {
     "data": {
      "text/plain": [
       "array([[0, 0, 0, ..., 0, 0, 0],\n",
       "       [0, 0, 0, ..., 0, 0, 0],\n",
       "       [0, 0, 0, ..., 0, 0, 0],\n",
       "       ...,\n",
       "       [0, 0, 0, ..., 0, 0, 0],\n",
       "       [0, 0, 0, ..., 0, 0, 0],\n",
       "       [0, 0, 0, ..., 0, 0, 0]], dtype=int64)"
      ]
     },
     "execution_count": 34,
     "metadata": {},
     "output_type": "execute_result"
    }
   ],
   "source": [
    "cv.fit_transform(new_df['tags']).toarray()\n"
   ]
  },
  {
   "cell_type": "code",
   "execution_count": 35,
   "metadata": {},
   "outputs": [
    {
     "data": {
      "text/plain": [
       "(4806, 5000)"
      ]
     },
     "execution_count": 35,
     "metadata": {},
     "output_type": "execute_result"
    }
   ],
   "source": [
    "cv.fit_transform(new_df['tags']).toarray().shape\n"
   ]
  },
  {
   "cell_type": "code",
   "execution_count": 36,
   "metadata": {},
   "outputs": [],
   "source": [
    "vectors = cv.fit_transform(new_df['tags']).toarray()\n"
   ]
  },
  {
   "cell_type": "code",
   "execution_count": 37,
   "metadata": {},
   "outputs": [
    {
     "data": {
      "text/plain": [
       "array([[0, 0, 0, ..., 0, 0, 0],\n",
       "       [0, 0, 0, ..., 0, 0, 0],\n",
       "       [0, 0, 0, ..., 0, 0, 0],\n",
       "       ...,\n",
       "       [0, 0, 0, ..., 0, 0, 0],\n",
       "       [0, 0, 0, ..., 0, 0, 0],\n",
       "       [0, 0, 0, ..., 0, 0, 0]], dtype=int64)"
      ]
     },
     "execution_count": 37,
     "metadata": {},
     "output_type": "execute_result"
    }
   ],
   "source": [
    "vectors"
   ]
  },
  {
   "cell_type": "code",
   "execution_count": 38,
   "metadata": {},
   "outputs": [
    {
     "data": {
      "text/plain": [
       "array([0, 0, 0, ..., 0, 0, 0], dtype=int64)"
      ]
     },
     "execution_count": 38,
     "metadata": {},
     "output_type": "execute_result"
    }
   ],
   "source": [
    "vectors[0]"
   ]
  },
  {
   "cell_type": "code",
   "execution_count": 39,
   "metadata": {},
   "outputs": [
    {
     "name": "stdout",
     "output_type": "stream",
     "text": [
      "Requirement already satisfied: nltk in c:\\users\\163544\\appdata\\local\\programs\\python\\python311\\lib\\site-packages (3.8.1)\n",
      "Requirement already satisfied: click in c:\\users\\163544\\appdata\\local\\programs\\python\\python311\\lib\\site-packages (from nltk) (8.1.7)\n",
      "Requirement already satisfied: joblib in c:\\users\\163544\\appdata\\local\\programs\\python\\python311\\lib\\site-packages (from nltk) (1.1.1)\n",
      "Requirement already satisfied: regex>=2021.8.3 in c:\\users\\163544\\appdata\\local\\programs\\python\\python311\\lib\\site-packages (from nltk) (2023.6.3)\n",
      "Requirement already satisfied: tqdm in c:\\users\\163544\\appdata\\local\\programs\\python\\python311\\lib\\site-packages (from nltk) (4.65.0)\n",
      "Requirement already satisfied: colorama in c:\\users\\163544\\appdata\\roaming\\python\\python311\\site-packages (from click->nltk) (0.4.6)\n",
      "Note: you may need to restart the kernel to use updated packages.\n"
     ]
    }
   ],
   "source": [
    "pip install nltk"
   ]
  },
  {
   "cell_type": "code",
   "execution_count": 40,
   "metadata": {},
   "outputs": [
    {
     "name": "stderr",
     "output_type": "stream",
     "text": [
      "[nltk_data] Downloading package punkt to\n",
      "[nltk_data]     C:\\Users\\163544\\AppData\\Roaming\\nltk_data...\n",
      "[nltk_data]   Package punkt is already up-to-date!\n"
     ]
    },
    {
     "data": {
      "text/plain": [
       "True"
      ]
     },
     "execution_count": 40,
     "metadata": {},
     "output_type": "execute_result"
    }
   ],
   "source": [
    "import nltk\n",
    "nltk.download('punkt')\n"
   ]
  },
  {
   "cell_type": "code",
   "execution_count": 41,
   "metadata": {},
   "outputs": [],
   "source": [
    "from nltk.stem.porter import PorterStemmer\n"
   ]
  },
  {
   "cell_type": "code",
   "execution_count": 42,
   "metadata": {},
   "outputs": [
    {
     "name": "stdout",
     "output_type": "stream",
     "text": [
      "jump\n"
     ]
    }
   ],
   "source": [
    "import nltk\n",
    "from nltk.stem import PorterStemmer\n",
    "\n",
    "# Initialize the Porter Stemmer\n",
    "stemmer = PorterStemmer()\n",
    "\n",
    "# Stem a word\n",
    "word = \"jumping\"\n",
    "stemmed_word = stemmer.stem(word)\n",
    "print(stemmed_word)  # Output: \"jump\"\n",
    "\n",
    "# You need to make sure you have NLTK installed:\n",
    "# Install NLTK if you haven't already\n",
    "# pip install nltk\n"
   ]
  },
  {
   "cell_type": "code",
   "execution_count": 43,
   "metadata": {},
   "outputs": [],
   "source": [
    "ps=PorterStemmer()"
   ]
  },
  {
   "cell_type": "code",
   "execution_count": 44,
   "metadata": {},
   "outputs": [],
   "source": [
    "def stem(text):\n",
    "    y = []\n",
    "    for i in text.split():\n",
    "        y.append(ps.stem(i))\n",
    "    return \" \".join(y)\n"
   ]
  },
  {
   "cell_type": "code",
   "execution_count": 45,
   "metadata": {},
   "outputs": [
    {
     "data": {
      "text/plain": [
       "0       in the 22nd century, a parapleg marin is dispa...\n",
       "1       captain barbossa, long believ to be dead, ha c...\n",
       "2       a cryptic messag from bond’ past send him on a...\n",
       "3       follow the death of district attorney harvey d...\n",
       "4       john carter is a war-weary, former militari ca...\n",
       "                              ...                        \n",
       "4804    el mariachi just want to play hi guitar and ca...\n",
       "4805    a newlyw couple' honeymoon is upend by the arr...\n",
       "4806    \"signed, sealed, delivered\" introduc a dedic q...\n",
       "4807    when ambiti new york attorney sam is sent to s...\n",
       "4808    ever sinc the second grade when he first saw h...\n",
       "Name: tags, Length: 4806, dtype: object"
      ]
     },
     "execution_count": 45,
     "metadata": {},
     "output_type": "execute_result"
    }
   ],
   "source": [
    "new_df['tags'].apply(stem)"
   ]
  },
  {
   "cell_type": "code",
   "execution_count": 46,
   "metadata": {},
   "outputs": [
    {
     "name": "stderr",
     "output_type": "stream",
     "text": [
      "C:\\Users\\163544\\AppData\\Local\\Temp\\ipykernel_6952\\3514595201.py:1: SettingWithCopyWarning: \n",
      "A value is trying to be set on a copy of a slice from a DataFrame.\n",
      "Try using .loc[row_indexer,col_indexer] = value instead\n",
      "\n",
      "See the caveats in the documentation: https://pandas.pydata.org/pandas-docs/stable/user_guide/indexing.html#returning-a-view-versus-a-copy\n",
      "  new_df['tags']=new_df['tags'].apply(stem)\n"
     ]
    }
   ],
   "source": [
    "new_df['tags']=new_df['tags'].apply(stem)"
   ]
  },
  {
   "cell_type": "code",
   "execution_count": 47,
   "metadata": {},
   "outputs": [
    {
     "data": {
      "text/plain": [
       "'a pair of age box rival are coax out of retir to fight one final bout -- 30 year after their last match. comedi father son relationship sport rivalri elderli elderli man robert de niro sylvest stallon alan arkin jon bernthal kevin hart kim basing ll cool j judd lormand nicol andrew han soto griff furst don lake camden gray carri lazar john l. armijo todd truley rowan joseph peter segal'"
      ]
     },
     "execution_count": 47,
     "metadata": {},
     "output_type": "execute_result"
    }
   ],
   "source": [
    "new_df['tags'][1300]"
   ]
  },
  {
   "cell_type": "code",
   "execution_count": 48,
   "metadata": {},
   "outputs": [],
   "source": [
    "from sklearn.feature_extraction.text import CountVectorizer\n",
    "cv = CountVectorizer(max_features=5000, stop_words='english')\n"
   ]
  },
  {
   "cell_type": "code",
   "execution_count": 49,
   "metadata": {},
   "outputs": [
    {
     "name": "stdout",
     "output_type": "stream",
     "text": [
      "Requirement already satisfied: xarray in c:\\users\\163544\\appdata\\local\\programs\\python\\python311\\lib\\site-packages (2023.9.0)\n",
      "Requirement already satisfied: numpy>=1.21 in c:\\users\\163544\\appdata\\local\\programs\\python\\python311\\lib\\site-packages (from xarray) (1.24.2)\n",
      "Requirement already satisfied: packaging>=21.3 in c:\\users\\163544\\appdata\\local\\programs\\python\\python311\\lib\\site-packages (from xarray) (23.0)\n",
      "Requirement already satisfied: pandas>=1.4 in c:\\users\\163544\\appdata\\local\\programs\\python\\python311\\lib\\site-packages (from xarray) (2.0.2)\n",
      "Requirement already satisfied: python-dateutil>=2.8.2 in c:\\users\\163544\\appdata\\local\\programs\\python\\python311\\lib\\site-packages (from pandas>=1.4->xarray) (2.8.2)\n",
      "Requirement already satisfied: pytz>=2020.1 in c:\\users\\163544\\appdata\\local\\programs\\python\\python311\\lib\\site-packages (from pandas>=1.4->xarray) (2023.3)\n",
      "Requirement already satisfied: tzdata>=2022.1 in c:\\users\\163544\\appdata\\local\\programs\\python\\python311\\lib\\site-packages (from pandas>=1.4->xarray) (2023.3)\n",
      "Requirement already satisfied: six>=1.5 in c:\\users\\163544\\appdata\\local\\programs\\python\\python311\\lib\\site-packages (from python-dateutil>=2.8.2->pandas>=1.4->xarray) (1.16.0)\n",
      "Note: you may need to restart the kernel to use updated packages.\n"
     ]
    }
   ],
   "source": [
    "pip install xarray\n"
   ]
  },
  {
   "cell_type": "code",
   "execution_count": 50,
   "metadata": {},
   "outputs": [],
   "source": [
    "vectors=cv.fit_transform(new_df['tags']).toarray()"
   ]
  },
  {
   "cell_type": "code",
   "execution_count": 51,
   "metadata": {},
   "outputs": [
    {
     "name": "stdout",
     "output_type": "stream",
     "text": [
      "['and' 'document' 'first' 'is' 'one' 'second' 'the' 'third' 'this']\n"
     ]
    }
   ],
   "source": [
    "from sklearn.feature_extraction.text import CountVectorizer\n",
    "\n",
    "# Sample text data\n",
    "corpus = [\"This is the first document.\",\n",
    "          \"This document is the second document.\", \"And this is the third one.\"]\n",
    "\n",
    "# Create a CountVectorizer\n",
    "vectorizer = CountVectorizer()\n",
    "\n",
    "# Fit and transform the text data\n",
    "X = vectorizer.fit_transform(corpus)\n",
    "\n",
    "# Get the feature names\n",
    "feature_names = vectorizer.get_feature_names_out()\n",
    "\n",
    "# Print the feature names\n",
    "print(feature_names)\n"
   ]
  },
  {
   "cell_type": "code",
   "execution_count": 52,
   "metadata": {},
   "outputs": [],
   "source": [
    "from sklearn.metrics.pairwise import cosine_similarity\n"
   ]
  },
  {
   "cell_type": "code",
   "execution_count": 53,
   "metadata": {},
   "outputs": [
    {
     "data": {
      "text/plain": [
       "(4806, 4806)"
      ]
     },
     "execution_count": 53,
     "metadata": {},
     "output_type": "execute_result"
    }
   ],
   "source": [
    "similarity = cosine_similarity(vectors)\n",
    "cosine_similarity(vectors).shape\n"
   ]
  },
  {
   "cell_type": "code",
   "execution_count": 54,
   "metadata": {},
   "outputs": [
    {
     "data": {
      "text/plain": [
       "array([[1.        , 0.10881351, 0.07927124, ..., 0.03464015, 0.01900543,\n",
       "        0.01536191],\n",
       "       [0.10881351, 1.        , 0.07938842, ..., 0.0375823 , 0.01374643,\n",
       "        0.02222222],\n",
       "       [0.07927124, 0.07938842, 1.        , ..., 0.0238688 , 0.05238277,\n",
       "        0.        ],\n",
       "       ...,\n",
       "       [0.03464015, 0.0375823 , 0.0238688 , ..., 1.        , 0.03719683,\n",
       "        0.04509876],\n",
       "       [0.01900543, 0.01374643, 0.05238277, ..., 0.03719683, 1.        ,\n",
       "        0.06598289],\n",
       "       [0.01536191, 0.02222222, 0.        , ..., 0.04509876, 0.06598289,\n",
       "        1.        ]])"
      ]
     },
     "execution_count": 54,
     "metadata": {},
     "output_type": "execute_result"
    }
   ],
   "source": [
    "similarity\n"
   ]
  },
  {
   "cell_type": "code",
   "execution_count": 55,
   "metadata": {},
   "outputs": [
    {
     "data": {
      "text/plain": [
       "[(0, 1.0000000000000002),\n",
       " (47, 0.3017318023494271),\n",
       " (2409, 0.30149839166852865),\n",
       " (149, 0.281451220037393),\n",
       " (65, 0.26532607018881077),\n",
       " (1216, 0.2623611139382941),\n",
       " (1537, 0.25966362889046096),\n",
       " (1920, 0.253825649699079),\n",
       " (158, 0.2490384025487984),\n",
       " (507, 0.24790171554530396),\n",
       " (1321, 0.2466984290363284),\n",
       " (218, 0.2401888567236763),\n",
       " (110, 0.2389433395128927),\n",
       " (322, 0.23624607804052644),\n",
       " (278, 0.23481812262849727),\n",
       " (1607, 0.2337367852823266),\n",
       " (2204, 0.23348563864528488),\n",
       " (3162, 0.23268303344655972),\n",
       " (305, 0.23211322981563567),\n",
       " (4048, 0.2313248221920752),\n",
       " (838, 0.2290086764844313),\n",
       " (505, 0.22893627067137456),\n",
       " (4336, 0.22890761423482825),\n",
       " (270, 0.22811268756929876),\n",
       " (2239, 0.22806517893865344),\n",
       " (1082, 0.2277196711990031),\n",
       " (3675, 0.22595384385027567),\n",
       " (72, 0.22422253919312196),\n",
       " (3, 0.22212349222678546),\n",
       " (4, 0.22177267137135853),\n",
       " (598, 0.21998299271308816),\n",
       " (582, 0.21773457205625582),\n",
       " (1383, 0.21694136514992582),\n",
       " (25, 0.21567839629547517),\n",
       " (52, 0.2150490055616034),\n",
       " (2714, 0.21490757246142353),\n",
       " (300, 0.21394759496263566),\n",
       " (4045, 0.2125285372954286),\n",
       " (184, 0.21225525397479206),\n",
       " (556, 0.21212175169479097),\n",
       " (122, 0.21166219538630943),\n",
       " (27, 0.2104141762796303),\n",
       " (1928, 0.21035158095583564),\n",
       " (94, 0.20979072549805627),\n",
       " (787, 0.208756546856263),\n",
       " (973, 0.20819808786086785),\n",
       " (541, 0.20773090311236872),\n",
       " (1496, 0.2075099482594468),\n",
       " (111, 0.20732478170122098),\n",
       " (9, 0.20548439157386314),\n",
       " (1929, 0.205101337499049),\n",
       " (557, 0.20443947903087717),\n",
       " (2676, 0.20431151670690265),\n",
       " (1681, 0.2038228548164461),\n",
       " (362, 0.20378918052114514),\n",
       " (951, 0.20321893391917217),\n",
       " (569, 0.20237976061414856),\n",
       " (1168, 0.20237976061414856),\n",
       " (1430, 0.20215216049356513),\n",
       " (2454, 0.2017621485853328),\n",
       " (373, 0.20166537242727398),\n",
       " (2971, 0.2015830432250566),\n",
       " (642, 0.20125123367438785),\n",
       " (1056, 0.2010496255290636),\n",
       " (1765, 0.20025356783070075),\n",
       " (220, 0.19970479688706783),\n",
       " (577, 0.19955703157132182),\n",
       " (3449, 0.19955703157132182),\n",
       " (633, 0.1991459970843084),\n",
       " (637, 0.1987177177023758),\n",
       " (95, 0.19832942102992102),\n",
       " (3736, 0.19555748699706393),\n",
       " (1710, 0.19512243086973688),\n",
       " (1996, 0.19464075717442503),\n",
       " (461, 0.1946365325513496),\n",
       " (581, 0.19405589808997287),\n",
       " (1357, 0.19336333812533713),\n",
       " (67, 0.19255283546637209),\n",
       " (2916, 0.19253986850885263),\n",
       " (2021, 0.1925254043336072),\n",
       " (113, 0.19237266060192534),\n",
       " (1297, 0.1911546716103141),\n",
       " (2077, 0.18979314625323399),\n",
       " (1333, 0.18963012054492823),\n",
       " (2231, 0.18921990670671412),\n",
       " (3293, 0.18758999228536172),\n",
       " (1565, 0.18669279555718038),\n",
       " (230, 0.185807824533757),\n",
       " (56, 0.18553214263309206),\n",
       " (229, 0.18493563337361482),\n",
       " (2970, 0.1846355237169829),\n",
       " (239, 0.18426707495869482),\n",
       " (233, 0.18370551808815094),\n",
       " (1022, 0.18344374312943887),\n",
       " (1560, 0.1830974470537355),\n",
       " (353, 0.18298368053236402),\n",
       " (1783, 0.18286247621804946),\n",
       " (770, 0.18235752005825112),\n",
       " (36, 0.18226466824932197),\n",
       " (778, 0.18144547671354655),\n",
       " (101, 0.18085719801035827),\n",
       " (167, 0.18055159999310066),\n",
       " (432, 0.1805061267270494),\n",
       " (726, 0.18050612672704935),\n",
       " (643, 0.18037499258207856),\n",
       " (2701, 0.18013433204450768),\n",
       " (3538, 0.18013433204450766),\n",
       " (1656, 0.17960132841418963),\n",
       " (2556, 0.17948918270958392),\n",
       " (4365, 0.17867001613789957),\n",
       " (796, 0.17862884353245556),\n",
       " (38, 0.1784892351926189),\n",
       " (539, 0.1784892351926189),\n",
       " (46, 0.17804833891974947),\n",
       " (4568, 0.1774655277360011),\n",
       " (2528, 0.17700713519305844),\n",
       " (1071, 0.1769664472837016),\n",
       " (3755, 0.1768227009435567),\n",
       " (549, 0.17666193570779076),\n",
       " (3905, 0.17651577014290976),\n",
       " (108, 0.17609748573950681),\n",
       " (356, 0.17599275930399413),\n",
       " (365, 0.17587337471639194),\n",
       " (875, 0.17568885170493412),\n",
       " (2844, 0.17556465660401566),\n",
       " (370, 0.17531944145159398),\n",
       " (661, 0.17523383916932328),\n",
       " (125, 0.17487369397229785),\n",
       " (2481, 0.17448980471969341),\n",
       " (972, 0.17444423114928637),\n",
       " (5, 0.1743271752145448),\n",
       " (731, 0.17323392114684716),\n",
       " (515, 0.1725395940195316),\n",
       " (1715, 0.17246549253699284),\n",
       " (1220, 0.17244250173604594),\n",
       " (150, 0.17184077718641594),\n",
       " (1833, 0.1716346280794848),\n",
       " (2766, 0.1714549679121835),\n",
       " (260, 0.17115807597010851),\n",
       " (877, 0.17089043221610986),\n",
       " (813, 0.1706965689294072),\n",
       " (3147, 0.17065972692178238),\n",
       " (30, 0.17041900943601349),\n",
       " (312, 0.170252313266904),\n",
       " (1438, 0.16998974780249418),\n",
       " (1355, 0.1692240243247707),\n",
       " (883, 0.16905599857026724),\n",
       " (1749, 0.1689028681053557),\n",
       " (483, 0.16816690439484147),\n",
       " (26, 0.1681596942032119),\n",
       " (510, 0.1680573375001207),\n",
       " (2834, 0.16805733750012064),\n",
       " (858, 0.1680573375001206),\n",
       " (1965, 0.1679858693542138),\n",
       " (419, 0.1679324292039348),\n",
       " (35, 0.1674791023125795),\n",
       " (570, 0.16692983857646282),\n",
       " (2428, 0.1668131787913642),\n",
       " (2424, 0.1664420700362533),\n",
       " (4114, 0.16629752630943484),\n",
       " (1011, 0.16604148685610462),\n",
       " (2072, 0.16602630175507546),\n",
       " (2075, 0.1656994854902022),\n",
       " (1164, 0.16559660032293136),\n",
       " (41, 0.16554480166660407),\n",
       " (79, 0.16541642929572717),\n",
       " (617, 0.16481436933814653),\n",
       " (31, 0.1647344942967028),\n",
       " (1853, 0.16471374034458303),\n",
       " (609, 0.1646402678215578),\n",
       " (163, 0.16464026782155777),\n",
       " (1161, 0.16464026782155777),\n",
       " (3703, 0.16459186556626468),\n",
       " (105, 0.16440336935025307),\n",
       " (476, 0.16385782155898299),\n",
       " (1204, 0.16349468734313366),\n",
       " (4039, 0.16348349022725278),\n",
       " (1018, 0.16342184792513742),\n",
       " (2901, 0.16342184792513742),\n",
       " (2577, 0.16327393492199058),\n",
       " (87, 0.16327393492199055),\n",
       " (593, 0.1629861201073919),\n",
       " (808, 0.1626971354942499),\n",
       " (932, 0.16260612268046687),\n",
       " (16, 0.1624071267318051),\n",
       " (494, 0.16238623600424368),\n",
       " (4343, 0.16228976805653805),\n",
       " (61, 0.16194106417700788),\n",
       " (351, 0.1619352941683059),\n",
       " (1190, 0.16182084471006225),\n",
       " (199, 0.16181777442622614),\n",
       " (361, 0.1616794094805086),\n",
       " (396, 0.16151530135837502),\n",
       " (1427, 0.16111704461321516),\n",
       " (3685, 0.16089828409872703),\n",
       " (601, 0.1601589565665157),\n",
       " (2456, 0.15923154413218515),\n",
       " (2003, 0.1592128530093341),\n",
       " (257, 0.15904142495493737),\n",
       " (579, 0.15874664653973203),\n",
       " (1010, 0.15855847002013074),\n",
       " (1883, 0.15807272359525032),\n",
       " (1832, 0.15797792735068553),\n",
       " (14, 0.15784262677046162),\n",
       " (397, 0.15780444626159945),\n",
       " (2786, 0.15780444626159945),\n",
       " (82, 0.15780097768896523),\n",
       " (2444, 0.1578009776889652),\n",
       " (662, 0.15769191202843727),\n",
       " (3925, 0.15730350869662366),\n",
       " (3662, 0.1571634412359247),\n",
       " (2568, 0.1569184092171888),\n",
       " (788, 0.15691840921718878),\n",
       " (595, 0.15678681139726622),\n",
       " (1199, 0.15654541508566483),\n",
       " (855, 0.15614856589565096),\n",
       " (878, 0.15614856589565096),\n",
       " (1335, 0.15588067571301764),\n",
       " (222, 0.15575190364255012),\n",
       " (91, 0.15573410240771937),\n",
       " (3409, 0.15533050958052427),\n",
       " (692, 0.15507324288201807),\n",
       " (64, 0.15488629496247663),\n",
       " (933, 0.15457621197886337),\n",
       " (941, 0.15454699980587672),\n",
       " (3181, 0.15425782603427945),\n",
       " (1149, 0.15400686856374293),\n",
       " (59, 0.15396159239972948),\n",
       " (584, 0.15396159239972945),\n",
       " (850, 0.15395505461368436),\n",
       " (1373, 0.15388554320151104),\n",
       " (1169, 0.15376447832304205),\n",
       " (1089, 0.1534437702667658),\n",
       " (1379, 0.15344377026676576),\n",
       " (3212, 0.15344377026676576),\n",
       " (1534, 0.15327389252307194),\n",
       " (983, 0.15310955712315089),\n",
       " (687, 0.15305325649351315),\n",
       " (2381, 0.15299372420468005),\n",
       " (459, 0.1524801663374857),\n",
       " (2412, 0.1524340292562768),\n",
       " (3472, 0.1521510087381899),\n",
       " (380, 0.15203054077889203),\n",
       " (68, 0.15201924201325795),\n",
       " (159, 0.15157072854874867),\n",
       " (112, 0.15117956937221347),\n",
       " (1957, 0.15106030644099738),\n",
       " (502, 0.15094006561553192),\n",
       " (2727, 0.15074919583426435),\n",
       " (454, 0.1506358959001838),\n",
       " (2979, 0.15057681141236462),\n",
       " (1596, 0.15055870609450034),\n",
       " (626, 0.149966172688915),\n",
       " (1037, 0.14978118905777085),\n",
       " (2515, 0.14978118905777085),\n",
       " (4152, 0.14978118905777085),\n",
       " (4236, 0.14967946784373778),\n",
       " (2333, 0.14966777367849135),\n",
       " (1721, 0.14966777367849132),\n",
       " (363, 0.14952182749684814),\n",
       " (2014, 0.1493395871955579),\n",
       " (1003, 0.14927447167058913),\n",
       " (1546, 0.14912854460655034),\n",
       " (298, 0.1491219288735832),\n",
       " (1488, 0.14912192887358314),\n",
       " (1839, 0.14890995729681744),\n",
       " (70, 0.1487410293271824),\n",
       " (700, 0.1487410293271824),\n",
       " (754, 0.1487410293271824),\n",
       " (81, 0.14874102932718233),\n",
       " (1670, 0.14858760893635278),\n",
       " (1092, 0.14851202067815514),\n",
       " (2247, 0.14848435781699668),\n",
       " (3345, 0.14838856193764957),\n",
       " (1842, 0.1483029104687895),\n",
       " (1418, 0.14814961136141208),\n",
       " (543, 0.14799545556285382),\n",
       " (790, 0.14799545556285382),\n",
       " (1582, 0.1479237647390257),\n",
       " (798, 0.14783864872781025),\n",
       " (4085, 0.1478200233861643),\n",
       " (4176, 0.1475924327609819),\n",
       " (4160, 0.14756519247047445),\n",
       " (83, 0.14738263530914267),\n",
       " (1330, 0.14724610666908491),\n",
       " (168, 0.14722063817340555),\n",
       " (180, 0.1471351412045275),\n",
       " (712, 0.14711539549670127),\n",
       " (2284, 0.14711539549670125),\n",
       " (37, 0.1470790662220402),\n",
       " (1652, 0.1466937896827794),\n",
       " (174, 0.14666305487424844),\n",
       " (2102, 0.14643482718021764),\n",
       " (2553, 0.14634690473027362),\n",
       " (587, 0.14634182315230265),\n",
       " (1756, 0.14627862998677224),\n",
       " (1998, 0.14619342078166989),\n",
       " (341, 0.14582257199473803),\n",
       " (2047, 0.1458117345994576),\n",
       " (3999, 0.14573585026717806),\n",
       " (134, 0.14567591366161323),\n",
       " (585, 0.14563681128172168),\n",
       " (2938, 0.14563681128172168),\n",
       " (1978, 0.14563681128172165),\n",
       " (1834, 0.14543933754847774),\n",
       " (2038, 0.1454393375484777),\n",
       " (2917, 0.1453758599678364),\n",
       " (931, 0.1452152166288247),\n",
       " (3647, 0.14497482234872455),\n",
       " (169, 0.14477388694744772),\n",
       " (279, 0.14462757676661722),\n",
       " (3431, 0.14462757676661722),\n",
       " (1592, 0.14456548085685234),\n",
       " (2093, 0.14425925847884263),\n",
       " (3515, 0.14403035091146602),\n",
       " (1822, 0.144030350911466),\n",
       " (74, 0.14394761260178476),\n",
       " (1689, 0.1437971032265748),\n",
       " (1155, 0.1437829950162763),\n",
       " (1303, 0.1436974862397475),\n",
       " (1655, 0.1436974862397475),\n",
       " (997, 0.1436266818569124),\n",
       " (1052, 0.14345858751054494),\n",
       " (3860, 0.14345858751054494),\n",
       " (749, 0.1433660037077356),\n",
       " (2161, 0.14336600370773558),\n",
       " (693, 0.14327171497428234),\n",
       " (2825, 0.14319431925610376),\n",
       " (4077, 0.14313396451504326),\n",
       " (1738, 0.1431041011051746),\n",
       " (1811, 0.14266738345145663),\n",
       " (287, 0.14260137956938984),\n",
       " (1005, 0.1425407368366584),\n",
       " (1658, 0.1425407368366584),\n",
       " (2831, 0.1422236269069556),\n",
       " (228, 0.14219549445155089),\n",
       " (1094, 0.1420511067757733),\n",
       " (217, 0.1418336267119731),\n",
       " (717, 0.14166258477165547),\n",
       " (291, 0.14147398031479844),\n",
       " (2633, 0.14144490431710405),\n",
       " (2030, 0.14135374946911242),\n",
       " (402, 0.14102002027064223),\n",
       " (2523, 0.1405601354484971),\n",
       " (628, 0.14054706191124627),\n",
       " (547, 0.14042902221685608),\n",
       " (3025, 0.14039365412103838),\n",
       " (2407, 0.14028050945192386),\n",
       " (2656, 0.14028050945192383),\n",
       " (2731, 0.1402613528627021),\n",
       " (800, 0.14026135286270208),\n",
       " (2178, 0.14026135286270208),\n",
       " (88, 0.14024911703317888),\n",
       " (325, 0.14017004484246073),\n",
       " (4268, 0.1401700448424607),\n",
       " (1967, 0.13994809071586617),\n",
       " (1574, 0.13982132488291),\n",
       " (773, 0.13974998382776158),\n",
       " (418, 0.13971786846853534),\n",
       " (117, 0.13968992209992528),\n",
       " (2721, 0.13957012105745353),\n",
       " (3712, 0.13957012105745353),\n",
       " (1058, 0.13953145361771505),\n",
       " (1638, 0.13948303041527893),\n",
       " (2001, 0.13946174017163585),\n",
       " (555, 0.13944976869299483),\n",
       " (1629, 0.13936662018318774),\n",
       " (889, 0.13934308353369473),\n",
       " (2820, 0.13918820228935172),\n",
       " (747, 0.13906497766020887),\n",
       " (1009, 0.13906497766020887),\n",
       " (2291, 0.1390260340135899),\n",
       " (1500, 0.13899666758696191),\n",
       " (456, 0.1389966675869619),\n",
       " (2111, 0.1388320434308515),\n",
       " (1344, 0.13856060063379347),\n",
       " (7, 0.1384703625254701),\n",
       " (732, 0.13843031325130614),\n",
       " (3497, 0.138280025167424),\n",
       " (236, 0.13825716707566232),\n",
       " (2450, 0.13825716707566232),\n",
       " (620, 0.13802866965364805),\n",
       " (3186, 0.1376405701095457),\n",
       " (2448, 0.13763941414122374),\n",
       " (3821, 0.13740107731454523),\n",
       " (1278, 0.13734456854089694),\n",
       " (1163, 0.1372182414686654),\n",
       " (389, 0.13705633198281553),\n",
       " (342, 0.13684174698100782),\n",
       " (660, 0.13672852762129317),\n",
       " (1042, 0.13672852762129317),\n",
       " (1380, 0.13672852762129314),\n",
       " (3819, 0.13668357331213093),\n",
       " (1039, 0.136449806126652),\n",
       " (765, 0.1363944624593474),\n",
       " (2795, 0.1362976424524991),\n",
       " (250, 0.13623624185604397),\n",
       " (119, 0.13610485843265066),\n",
       " (1559, 0.13588190321096405),\n",
       " (1942, 0.13588190321096405),\n",
       " (756, 0.13578136164839213),\n",
       " (634, 0.13567884644944492),\n",
       " (1174, 0.13547928927944808),\n",
       " (950, 0.13546444630057258),\n",
       " (1393, 0.13539285910205187),\n",
       " (4674, 0.1353310076328113),\n",
       " (776, 0.13515922155247134),\n",
       " (1668, 0.13515922155247134),\n",
       " (4668, 0.13505081343787217),\n",
       " (1361, 0.135043344845944),\n",
       " (430, 0.13472805660188242),\n",
       " (1570, 0.13471152105936401),\n",
       " (1285, 0.13470346313814308),\n",
       " (2547, 0.13470346313814308),\n",
       " (857, 0.134541323238958),\n",
       " (1586, 0.13454132323895798),\n",
       " (3896, 0.1344166902124495),\n",
       " (1643, 0.13438869548337107),\n",
       " (849, 0.1337220256644235),\n",
       " (1329, 0.1337082420200366),\n",
       " (2151, 0.13367123748130896),\n",
       " (4355, 0.1335023785538005),\n",
       " (1474, 0.13333465022527088),\n",
       " (1401, 0.1332687896876763),\n",
       " (3398, 0.1332687896876763),\n",
       " (1085, 0.1330380210475479),\n",
       " (172, 0.13303802104754786),\n",
       " (1385, 0.13303802104754786),\n",
       " (1843, 0.13303802104754786),\n",
       " (2584, 0.13303802104754786),\n",
       " (4596, 0.13303802104754786),\n",
       " (3264, 0.13271987466696927),\n",
       " (1141, 0.13258780648718776),\n",
       " (814, 0.13248865316305405),\n",
       " (1083, 0.13248865316305405),\n",
       " (329, 0.13237777865424943),\n",
       " (1677, 0.1323777786542494),\n",
       " (1086, 0.13235284213491771),\n",
       " (2033, 0.13229920839587597),\n",
       " (2921, 0.13225773266901192),\n",
       " (2347, 0.13222432521232438),\n",
       " (516, 0.13222432521232436),\n",
       " (253, 0.13216644765252578),\n",
       " (188, 0.13216644765252575),\n",
       " (1306, 0.13215987269803312),\n",
       " (1548, 0.13212365955234764),\n",
       " (1501, 0.1318727020625951),\n",
       " (708, 0.13172726966270862),\n",
       " (1280, 0.1317009215737036),\n",
       " (2763, 0.13156020706873298),\n",
       " (1812, 0.13145552438438773),\n",
       " (100, 0.13142537937699247),\n",
       " (484, 0.13142537937699247),\n",
       " (2382, 0.13142537937699247),\n",
       " (2160, 0.13141883673209095),\n",
       " (1880, 0.13137289884374856),\n",
       " (40, 0.13122789559995407),\n",
       " (1205, 0.13105630131939489),\n",
       " (306, 0.13101560983852648),\n",
       " (2713, 0.13100678694146015),\n",
       " (842, 0.1309877312107317),\n",
       " (2550, 0.13095253542718024),\n",
       " (378, 0.13057621334923664),\n",
       " (2617, 0.13057621334923664),\n",
       " (1242, 0.13040334390396632),\n",
       " (2937, 0.13040334390396632),\n",
       " (824, 0.13036553596953565),\n",
       " (1310, 0.13029649825270295),\n",
       " (1611, 0.13026152402089516),\n",
       " (1722, 0.1301766538691853),\n",
       " (2091, 0.1298573693740175),\n",
       " (898, 0.12983181444523045),\n",
       " (514, 0.1294897010325451),\n",
       " (4278, 0.1293491194027446),\n",
       " (1766, 0.12930329695834655),\n",
       " (1688, 0.12914337866585918),\n",
       " (2976, 0.12914337866585918),\n",
       " (1396, 0.12911272875949042),\n",
       " (436, 0.12907191246873054),\n",
       " (680, 0.12906583835345536),\n",
       " (3785, 0.12906583835345536),\n",
       " (2863, 0.12899229356597253),\n",
       " (3756, 0.12890889208355807),\n",
       " (2295, 0.12886926134183802),\n",
       " (673, 0.12868064402646917),\n",
       " (1191, 0.1286127093770895),\n",
       " (129, 0.12859499666138527),\n",
       " (1473, 0.12836855697758137),\n",
       " (1219, 0.1282304519811935),\n",
       " (757, 0.12823045198119348),\n",
       " (2472, 0.12812716525321255),\n",
       " (161, 0.12804051151515622),\n",
       " (2127, 0.12804051151515622),\n",
       " (3066, 0.12804051151515622),\n",
       " (918, 0.12792117408418063),\n",
       " (935, 0.12791924318396114),\n",
       " (4165, 0.12781879617735697),\n",
       " (1826, 0.1277532984553123),\n",
       " (4798, 0.12763710625441493),\n",
       " (689, 0.12742731349314612),\n",
       " (616, 0.12732008652624052),\n",
       " (223, 0.12720867910820832),\n",
       " (140, 0.12702282991903477),\n",
       " (2244, 0.12684677601610458),\n",
       " (1902, 0.12672927087183264),\n",
       " (319, 0.12671884176669446),\n",
       " (2496, 0.12671884176669446),\n",
       " (571, 0.12643366799504174),\n",
       " (480, 0.12642987492810503),\n",
       " (1927, 0.12642987492810503),\n",
       " (1479, 0.12642008036328553),\n",
       " (416, 0.12621094857350137),\n",
       " (2748, 0.12621094857350137),\n",
       " (2009, 0.12618709693413627),\n",
       " (809, 0.12570911378856722),\n",
       " (275, 0.12564701987823965),\n",
       " (332, 0.12564701987823965),\n",
       " (3354, 0.12564701987823965),\n",
       " (715, 0.12557190168969412),\n",
       " (1497, 0.12548707808897572),\n",
       " (276, 0.1250441042774516),\n",
       " (3376, 0.12472314473207612),\n",
       " (939, 0.12464526577054441),\n",
       " (2595, 0.1246015229140401),\n",
       " (2477, 0.12457443268153948),\n",
       " (914, 0.12456738083286374),\n",
       " (1334, 0.12456738083286373),\n",
       " (957, 0.12453194438482702),\n",
       " (775, 0.12444567354358615),\n",
       " (3325, 0.12444567354358613),\n",
       " (340, 0.12415860124995307),\n",
       " (1158, 0.12415860124995304),\n",
       " (2880, 0.124123969411604),\n",
       " (1632, 0.12412396941160397),\n",
       " (271, 0.12405859430561444),\n",
       " (85, 0.12399870601136632),\n",
       " (3459, 0.12395476167519855),\n",
       " (1984, 0.123931786942818),\n",
       " (3628, 0.12376001723179597),\n",
       " (870, 0.12368809508872808),\n",
       " (1211, 0.12364265350958685),\n",
       " (3858, 0.1235353052584373),\n",
       " (1359, 0.12353530525843726),\n",
       " (449, 0.12352270154415071),\n",
       " (3237, 0.12352270154415071),\n",
       " (4315, 0.12352270154415071),\n",
       " (3383, 0.1235227015441507),\n",
       " (1512, 0.12349641732179886),\n",
       " (1912, 0.12349641732179886),\n",
       " (2418, 0.12349641732179886),\n",
       " (3068, 0.12338292416521165),\n",
       " (4333, 0.12335069878453395),\n",
       " (3837, 0.12334921451816425),\n",
       " (1209, 0.12334921451816423),\n",
       " (1233, 0.12334022372296895),\n",
       " (1231, 0.12324204750008846),\n",
       " (457, 0.12299369396748494),\n",
       " (182, 0.12293066875506192),\n",
       " (280, 0.12293066875506192),\n",
       " (2932, 0.12289525962281096),\n",
       " (904, 0.1228875164819771),\n",
       " (2306, 0.12281886275761887),\n",
       " (654, 0.1228073299285632),\n",
       " (434, 0.1227570515494978),\n",
       " (900, 0.12265499495581342),\n",
       " (433, 0.12251616639411364),\n",
       " (86, 0.1224714253917955),\n",
       " (4178, 0.12237718034098378),\n",
       " (2323, 0.12229371288986765),\n",
       " (267, 0.12228123584929138),\n",
       " (1898, 0.12220322548355292),\n",
       " (1802, 0.12218207390823504),\n",
       " (2157, 0.12208406092524177),\n",
       " (350, 0.12208406092524172),\n",
       " (1731, 0.12208406092524172),\n",
       " (1505, 0.12204765161336906),\n",
       " (1294, 0.1219557539418947),\n",
       " (928, 0.12195151929358553),\n",
       " (22, 0.1219397993839632),\n",
       " (4376, 0.1219397993839632),\n",
       " (1580, 0.12172864805778011),\n",
       " (1621, 0.12172864805778011),\n",
       " (4654, 0.12172864805778011),\n",
       " (2465, 0.12172864805778008),\n",
       " (63, 0.1216151006684067),\n",
       " (2760, 0.12157168003883409),\n",
       " (3011, 0.12157168003883409),\n",
       " (1411, 0.12153026926354127),\n",
       " (1908, 0.12144654188931506),\n",
       " (4512, 0.1212405255545693),\n",
       " (4607, 0.12123697047882687),\n",
       " (4229, 0.1210888193393973),\n",
       " (1342, 0.12095215904960546),\n",
       " (124, 0.12070070141526076),\n",
       " (1823, 0.12054615590694745),\n",
       " (1322, 0.12054615590694742),\n",
       " (3526, 0.12054615590694742),\n",
       " (508, 0.12050443721529937),\n",
       " (4595, 0.1204771988127896),\n",
       " (17, 0.12044696487560029),\n",
       " (545, 0.12044696487560025),\n",
       " (3663, 0.12033741781803292),\n",
       " (4353, 0.12033741781803292),\n",
       " (4118, 0.12029223763329122),\n",
       " (3308, 0.12022594265022708),\n",
       " (1346, 0.12022594265022707),\n",
       " (126, 0.11995634383482065),\n",
       " (4406, 0.11991885161829782),\n",
       " (231, 0.11983393326589113),\n",
       " (326, 0.11948759825058507),\n",
       " (3760, 0.11947166975644632),\n",
       " (152, 0.11942365809913888),\n",
       " (956, 0.11932474272144954),\n",
       " (945, 0.1192581366639453),\n",
       " (1444, 0.11923641189162482),\n",
       " (3157, 0.11923641189162482),\n",
       " (2134, 0.11919922920830689),\n",
       " (2202, 0.11919922920830686),\n",
       " (3608, 0.11914000078882447),\n",
       " (740, 0.11914000078882445),\n",
       " (20, 0.11899282346174593),\n",
       " (219, 0.11899282346174592),\n",
       " (4468, 0.11899282346174592),\n",
       " (4721, 0.11899282346174592),\n",
       " (10, 0.1189928234617459),\n",
       " (192, 0.1189928234617459),\n",
       " (535, 0.1189928234617459),\n",
       " (735, 0.1189928234617459),\n",
       " (1741, 0.11889406055349029),\n",
       " (106, 0.11874615947123209),\n",
       " (1690, 0.11869889261316632),\n",
       " (13, 0.11866365872753958),\n",
       " (171, 0.11854247914589046),\n",
       " (892, 0.11854247914589046),\n",
       " (2223, 0.11852573585779197),\n",
       " (1313, 0.11851968908912965),\n",
       " (1348, 0.11848344551301412),\n",
       " (869, 0.11827091898224817),\n",
       " (1118, 0.11827091898224817),\n",
       " (1982, 0.11827091898224817),\n",
       " (1201, 0.11827091898224816),\n",
       " (39, 0.11825601870893143),\n",
       " (2171, 0.11825601870893143),\n",
       " (191, 0.11792560169346654),\n",
       " (45, 0.11789646627567944),\n",
       " (3355, 0.11789646627567944),\n",
       " (517, 0.11785566459033373),\n",
       " (463, 0.11769231639736102),\n",
       " (1698, 0.11769231639736102),\n",
       " (2634, 0.11769231639736102),\n",
       " (1031, 0.11769231639736101),\n",
       " (1171, 0.11769231639736101),\n",
       " (2055, 0.1176874801574462),\n",
       " (3072, 0.11767718009527316),\n",
       " (226, 0.11767718009527314),\n",
       " (263, 0.11759010854794967),\n",
       " (2711, 0.11759010854794966),\n",
       " (1006, 0.11754458098276072),\n",
       " (2492, 0.11753273352206613),\n",
       " (413, 0.11753273352206611),\n",
       " (1112, 0.11740906131424864),\n",
       " (1817, 0.11740906131424864),\n",
       " (2558, 0.11740906131424864),\n",
       " (3829, 0.11740906131424864),\n",
       " (2984, 0.11734082997836008),\n",
       " (401, 0.11732850620266277),\n",
       " (627, 0.11732850620266277),\n",
       " (1624, 0.11732850620266277),\n",
       " (3078, 0.11684863300070741),\n",
       " (8, 0.1168440092691107),\n",
       " (893, 0.11684400926911069),\n",
       " (1181, 0.11682255944621553),\n",
       " (1165, 0.11682255944621552),\n",
       " (19, 0.11681458123457544),\n",
       " (3644, 0.11678191953080977),\n",
       " (3412, 0.11660248014043026),\n",
       " (490, 0.11643353885398372),\n",
       " (960, 0.11643353885398372),\n",
       " (2990, 0.11643353885398372),\n",
       " (3069, 0.11643353885398372),\n",
       " (3985, 0.11643353885398372),\n",
       " (4139, 0.11643353885398372),\n",
       " (102, 0.11642330338837086),\n",
       " (2918, 0.11634785412220572),\n",
       " (3443, 0.11629615409952423),\n",
       " (1554, 0.11629615409952422),\n",
       " (1097, 0.11602001015917823),\n",
       " (1340, 0.11602001015917823),\n",
       " (76, 0.11599016857445978),\n",
       " (1178, 0.11599016857445978),\n",
       " (1106, 0.11593215898414755),\n",
       " (200, 0.11585796624479992),\n",
       " (1734, 0.115815502778157),\n",
       " (2675, 0.1156933695257096),\n",
       " (333, 0.11569336952570958),\n",
       " (3289, 0.11555669686190143),\n",
       " (1292, 0.11555669686190141),\n",
       " (4205, 0.1155449071667361),\n",
       " (3603, 0.11550934941634292),\n",
       " (3870, 0.1155093494163429),\n",
       " (2035, 0.11543999525253028),\n",
       " (3445, 0.11543999525253028),\n",
       " (170, 0.11541415740113332),\n",
       " (755, 0.11541415740113331),\n",
       " (982, 0.1153742147948493),\n",
       " (2858, 0.11537421479484929),\n",
       " (2433, 0.11535859437608846),\n",
       " (156, 0.11535859437608845),\n",
       " (2636, 0.11521430589638529),\n",
       " (3496, 0.11521430589638529),\n",
       " (3864, 0.11521430589638529),\n",
       " (1105, 0.11521430589638527),\n",
       " (1110, 0.11521430589638526),\n",
       " (4221, 0.11504424778761062),\n",
       " (1551, 0.11503040425338519),\n",
       " (1030, 0.11492734578480503),\n",
       " (1103, 0.11489647272288225),\n",
       " (3024, 0.11481769781445442),\n",
       " (2495, 0.11476687000843597),\n",
       " (564, 0.11468458214383151),\n",
       " (62, 0.11463093857377761),\n",
       " (1466, 0.11463093857377761),\n",
       " (1177, 0.11462376225433064),\n",
       " (232, 0.11453855633829536),\n",
       " (1803, 0.11445380711741412),\n",
       " (3811, 0.11445380711741412),\n",
       " (3759, 0.11428819853874195),\n",
       " (1669, 0.11423039116086539),\n",
       " (3369, 0.11423039116086539),\n",
       " (1628, 0.11416209841449414),\n",
       " (2939, 0.11416209841449414),\n",
       " (3036, 0.11410538398007235),\n",
       " (2613, 0.11407916189906885),\n",
       " (2952, 0.11407916189906885),\n",
       " (1788, 0.11403947528736202),\n",
       " (1649, 0.11403258946932675),\n",
       " (3954, 0.11403258946932673),\n",
       " (197, 0.11403258946932672),\n",
       " (1128, 0.11395852664307962),\n",
       " (1538, 0.11392695481073993),\n",
       " (3492, 0.11377226776748951),\n",
       " (1457, 0.11370817177221),\n",
       " (3336, 0.11370817177221),\n",
       " (198, 0.11364669127473237),\n",
       " (3055, 0.11354686186005629),\n",
       " (4502, 0.11345520555947992),\n",
       " (412, 0.113249484255945),\n",
       " (2198, 0.11324948425594498),\n",
       " (1793, 0.11313820240971054),\n",
       " (2256, 0.11313820240971054),\n",
       " (4368, 0.11313820240971054),\n",
       " (1634, 0.11313820240971052),\n",
       " (3691, 0.11313820240971052),\n",
       " (2575, 0.1131382024097105),\n",
       " (3780, 0.1130823178904157),\n",
       " (1324, 0.11297692192513784),\n",
       " (3783, 0.11293260855927345),\n",
       " (1172, 0.11293260855927344),\n",
       " (4542, 0.11288650420603168),\n",
       " (3057, 0.11281976668662724),\n",
       " (3027, 0.11281601621651378),\n",
       " (4291, 0.11263647841909609),\n",
       " (2519, 0.11260534186607016),\n",
       " (2612, 0.11252111185611202),\n",
       " (3340, 0.11252111185611202),\n",
       " (2322, 0.11225960088280337),\n",
       " (2220, 0.11225960088280336),\n",
       " (1585, 0.11218750984311235),\n",
       " (2392, 0.11218750984311235),\n",
       " (195, 0.11218750984311233),\n",
       " (266, 0.11218750984311233),\n",
       " (3909, 0.11211126959656098),\n",
       " (462, 0.11191038918147159),\n",
       " (249, 0.11163837531806801),\n",
       " (3198, 0.11163837531806801),\n",
       " (2292, 0.1115845940529651),\n",
       " (4006, 0.11156939213730867),\n",
       " (2037, 0.11130759421968228),\n",
       " (2148, 0.11130759421968228),\n",
       " (4134, 0.11130759421968228),\n",
       " (4198, 0.11130759421968228),\n",
       " (785, 0.1111313350525358),\n",
       " (1002, 0.11096138002416889),\n",
       " (994, 0.11086501753962322),\n",
       " (2600, 0.11086501753962322),\n",
       " (4243, 0.11086501753962322),\n",
       " (2929, 0.11084796007086474),\n",
       " (32, 0.11084796007086473),\n",
       " (51, 0.11078131423018975),\n",
       " (1150, 0.11071952532793733),\n",
       " (4694, 0.11071952532793733),\n",
       " (4790, 0.11071952532793733),\n",
       " (670, 0.11070237360361895),\n",
       " (2270, 0.11069432457073644),\n",
       " (3979, 0.11069432457073644),\n",
       " (1153, 0.1106240201339392),\n",
       " (823, 0.1103632011110694),\n",
       " (256, 0.11036320111106938),\n",
       " (1633, 0.1103570422784459),\n",
       " (251, 0.11030929966653018),\n",
       " (2058, 0.11030929966653018),\n",
       " (3338, 0.11018693767693699),\n",
       " (1499, 0.11018693767693698),\n",
       " (1905, 0.10982299619780186),\n",
       " (1388, 0.10977459317493232),\n",
       " (3689, 0.10977459317493232),\n",
       " (3748, 0.10977459317493232),\n",
       " (2234, 0.1097601785477052),\n",
       " (3716, 0.10964506558625242),\n",
       " (2780, 0.10964506558625241),\n",
       " (4181, 0.10952114948082706),\n",
       " (1557, 0.10941573930290942),\n",
       " (493, 0.10938101416132874),\n",
       " (1305, 0.10932080297052608),\n",
       " (671, 0.10932080297052607),\n",
       " (2398, 0.10930188770038356),\n",
       " (2865, 0.10919530367922656),\n",
       " (465, 0.10907675483993376),\n",
       " (3863, 0.10907675483993376),\n",
       " (437, 0.10894789861675827),\n",
       " (1589, 0.10894789861675827),\n",
       " (28, 0.1088135111243639),\n",
       " (1, 0.10881351112436388),\n",
       " (3594, 0.1087484568647972),\n",
       " (335, 0.1086250893187137),\n",
       " (2817, 0.10862508931871367),\n",
       " (537, 0.10862508931871366),\n",
       " (115, 0.1083132164691742),\n",
       " (1584, 0.1083132164691742),\n",
       " (294, 0.10825749066949579),\n",
       " (978, 0.10825749066949579),\n",
       " (1353, 0.10825749066949579),\n",
       " (2206, 0.10822499554924715),\n",
       " (2822, 0.10809530707180592),\n",
       " (2159, 0.10809339210113264),\n",
       " (2756, 0.10797894944698332),\n",
       " (2191, 0.10796070945133861),\n",
       " (303, 0.10790808419378756),\n",
       " (4390, 0.1078846233642476),\n",
       " (3442, 0.1078197596136889),\n",
       " (624, 0.10759394063290871),\n",
       " (653, 0.1075939406329087),\n",
       " (2372, 0.1075939406329087),\n",
       " (2555, 0.10755486529454614),\n",
       " (625, 0.1075333521699596),\n",
       " (4192, 0.1075245027808017),\n",
       " (2567, 0.10745378623071176),\n",
       " (2439, 0.1073329862039139),\n",
       " (3064, 0.1073329862039139),\n",
       " (3518, 0.10725868160088983),\n",
       " (1861, 0.10720509244860595),\n",
       " (145, 0.10719930784510802),\n",
       " (807, 0.10713727954545924),\n",
       " (1511, 0.10713727954545922),\n",
       " (4253, 0.1069737974813178),\n",
       " (513, 0.10696659361602925),\n",
       " (2022, 0.10696659361602925),\n",
       " (3719, 0.10685274672028215),\n",
       " (1235, 0.10682355330958651),\n",
       " (1387, 0.10682355330958651),\n",
       " (495, 0.10673074394948508),\n",
       " (4266, 0.10673074394948508),\n",
       " (4303, 0.10673074394948508),\n",
       " (2217, 0.1066677201802167),\n",
       " (4485, 0.1066677201802167),\n",
       " (572, 0.10666772018021668),\n",
       " (523, 0.10644301438993635),\n",
       " (1113, 0.10644301438993634),\n",
       " (1123, 0.1064304168380383),\n",
       " (1694, 0.10636425521201245),\n",
       " (1515, 0.10636425521201244),\n",
       " (3281, 0.10636425521201244),\n",
       " (3356, 0.10636425521201243),\n",
       " (2524, 0.10620428111583506),\n",
       " (2288, 0.106127626987396),\n",
       " (3051, 0.106127626987396),\n",
       " (53, 0.1059112944769341),\n",
       " (330, 0.10591129447693409),\n",
       " (331, 0.10591129447693409),\n",
       " (531, 0.10590222292339954),\n",
       " (4067, 0.10590222292339954),\n",
       " (1439, 0.10583936671670077),\n",
       " (3889, 0.10583109769315471),\n",
       " (589, 0.10576501520298168),\n",
       " (1897, 0.10576501520298168),\n",
       " (1901, 0.10572789815842647),\n",
       " (1950, 0.10572789815842647),\n",
       " (4718, 0.10572789815842647),\n",
       " (568, 0.10564567721266885),\n",
       " (1716, 0.10564567721266885),\n",
       " (1166, 0.10564567721266883),\n",
       " (2807, 0.10564567721266883),\n",
       " (1392, 0.10561311373835319),\n",
       " (2767, 0.10550601355256166),\n",
       " (1243, 0.10544512713012867),\n",
       " (151, 0.10544512713012866),\n",
       " (3008, 0.10544512713012866),\n",
       " (1289, 0.10542010158637283),\n",
       " (988, 0.1053818157301669),\n",
       " (207, 0.10538181573016689),\n",
       " (3934, 0.10538181573016689),\n",
       " (3810, 0.1052952405907788),\n",
       " (2135, 0.10517579047791782),\n",
       " (591, 0.1051757904779178),\n",
       " (18, 0.10501385690924028),\n",
       " (1787, 0.10499429631252812),\n",
       " (544, 0.10486599366218245),\n",
       " (4602, 0.10481248787082119),\n",
       " (451, 0.10477562749061647),\n",
       " (4443, 0.10477562749061646),\n",
       " (856, 0.10461227281145918),\n",
       " (2983, 0.10459789714560858),\n",
       " (3452, 0.10459630512872688),\n",
       " (3060, 0.10452987368021618),\n",
       " (4490, 0.10452987368021618),\n",
       " (3233, 0.10420342023120968),\n",
       " (1888, 0.10411872052902768),\n",
       " (2826, 0.10411872052902768),\n",
       " (3470, 0.10411872052902768),\n",
       " (1381, 0.1041033217682352),\n",
       " (4673, 0.1041033217682352),\n",
       " (1915, 0.10410071158302617),\n",
       " (143, 0.10402629377265835),\n",
       " (533, 0.1039204504753451),\n",
       " (1666, 0.1039204504753451),\n",
       " (4650, 0.10392045047534508),\n",
       " (2579, 0.1038852411060555),\n",
       " (1232, 0.10386545155618435),\n",
       " (4090, 0.10385890740776363),\n",
       " (529, 0.103474016370315),\n",
       " (3790, 0.10346550104162755),\n",
       " (354, 0.10343461120632451),\n",
       " (394, 0.10343461120632451),\n",
       " (1708, 0.10343461120632451),\n",
       " (744, 0.10337435919957709),\n",
       " (2084, 0.10335705177541926),\n",
       " (2163, 0.10335705177541926),\n",
       " (2218, 0.10335705177541926),\n",
       " (1913, 0.1032295606059178),\n",
       " (612, 0.10322956060591779),\n",
       " (2066, 0.10322956060591779),\n",
       " (1421, 0.10305080798590893),\n",
       " (1934, 0.10305080798590893),\n",
       " (114, 0.10298077684769089),\n",
       " (203, 0.10291368110149905),\n",
       " (3498, 0.10291368110149905),\n",
       " (526, 0.1028901675016716),\n",
       " (540, 0.1028901675016716),\n",
       " (3871, 0.1028901675016716),\n",
       " (2096, 0.10285156580093659),\n",
       " (1015, 0.10284114183180786),\n",
       " (3854, 0.10284114183180784),\n",
       " (1552, 0.10267124570916196),\n",
       " (2796, 0.10267124570916196),\n",
       " (1673, 0.10264106159981964),\n",
       " (2237, 0.10264106159981964),\n",
       " (3627, 0.10264106159981964),\n",
       " (4137, 0.10264106159981964),\n",
       " (4294, 0.10264106159981964),\n",
       " (1530, 0.10264106159981963),\n",
       " (524, 0.10262660409406445),\n",
       " (2331, 0.10262660409406443),\n",
       " (3090, 0.10262660409406443),\n",
       " (3935, 0.10262660409406442),\n",
       " (1614, 0.1026266040940644),\n",
       " (2097, 0.10251267998409819),\n",
       " (1308, 0.10245977021025925),\n",
       " (3483, 0.10245977021025925),\n",
       " (127, 0.1024256203675581),\n",
       " (759, 0.10241271635234249),\n",
       " (1639, 0.10237059719927491),\n",
       " (1798, 0.10237059719927491),\n",
       " (2482, 0.10237059719927491),\n",
       " (23, 0.10221973951543858),\n",
       " (377, 0.10221973951543858),\n",
       " (1027, 0.10221973951543858),\n",
       " (264, 0.10220956282772203),\n",
       " (338, 0.10220263876424984),\n",
       " (520, 0.10220263876424984),\n",
       " (1801, 0.10196289225959755),\n",
       " (3926, 0.10191142740822305),\n",
       " (2922, 0.10191142740822304),\n",
       " (3969, 0.10191142740822304),\n",
       " (2736, 0.10187934649723576),\n",
       " (864, 0.10184483782617565),\n",
       " (1148, 0.10184483782617565),\n",
       " (1959, 0.10184483782617565),\n",
       " (4287, 0.10173671743770145),\n",
       " (4016, 0.10160946695958606),\n",
       " (3440, 0.10160946695958605),\n",
       " (1038, 0.1015509192929794),\n",
       " (987, 0.10146979752317507),\n",
       " (3671, 0.10146979752317507),\n",
       " (4157, 0.10146979752317507),\n",
       " (2298, 0.10144054004815009),\n",
       " (764, 0.10137507341335558),\n",
       " (794, 0.10137507341335558),\n",
       " (632, 0.10137507341335557),\n",
       " (2259, 0.10137507341335557),\n",
       " (1491, 0.10132256906849205),\n",
       " ...]"
      ]
     },
     "execution_count": 55,
     "metadata": {},
     "output_type": "execute_result"
    }
   ],
   "source": [
    "sorted(list(enumerate(similarity[0])),reverse=True,key=lambda x:x[1])"
   ]
  },
  {
   "cell_type": "code",
   "execution_count": 56,
   "metadata": {},
   "outputs": [
    {
     "data": {
      "text/plain": [
       "[(47, 0.3017318023494271),\n",
       " (2409, 0.30149839166852865),\n",
       " (149, 0.281451220037393),\n",
       " (65, 0.26532607018881077),\n",
       " (1216, 0.2623611139382941)]"
      ]
     },
     "execution_count": 56,
     "metadata": {},
     "output_type": "execute_result"
    }
   ],
   "source": [
    "sorted(list(enumerate(similarity[0])),reverse=True,key=lambda x:x[1])[1:6]"
   ]
  },
  {
   "cell_type": "code",
   "execution_count": 57,
   "metadata": {},
   "outputs": [],
   "source": [
    "def recommend(movie):\n",
    "    movie_index=new_df[new_df['title']==movie].index[0]\n",
    "    distance=similarity[movie_index]\n",
    "    movies_list=sorted(list(enumerate(distance)),reverse=True,key=lambda x:x[1])[1:6]\n",
    "    \n",
    "    for i in movies_list:\n",
    "        print(new_df.iloc[i[0]].title)\n",
    "    \n"
   ]
  },
  {
   "cell_type": "code",
   "execution_count": 58,
   "metadata": {},
   "outputs": [
    {
     "name": "stdout",
     "output_type": "stream",
     "text": [
      "Star Trek Into Darkness\n",
      "Aliens\n",
      "Armageddon\n",
      "The Dark Knight\n",
      "Aliens vs Predator: Requiem\n"
     ]
    }
   ],
   "source": [
    "recommend('Avatar')"
   ]
  },
  {
   "cell_type": "code",
   "execution_count": 59,
   "metadata": {},
   "outputs": [],
   "source": [
    "import pickle"
   ]
  },
  {
   "cell_type": "code",
   "execution_count": 60,
   "metadata": {},
   "outputs": [],
   "source": [
    "pickle.dump(new_df,open('movies.pkl','wb'))\n",
    "pickle.dump(new_df.to_dict(),open('movies_dict.pkl','wb'))"
   ]
  },
  {
   "cell_type": "code",
   "execution_count": 61,
   "metadata": {},
   "outputs": [
    {
     "data": {
      "text/html": [
       "<div>\n",
       "<style scoped>\n",
       "    .dataframe tbody tr th:only-of-type {\n",
       "        vertical-align: middle;\n",
       "    }\n",
       "\n",
       "    .dataframe tbody tr th {\n",
       "        vertical-align: top;\n",
       "    }\n",
       "\n",
       "    .dataframe thead th {\n",
       "        text-align: right;\n",
       "    }\n",
       "</style>\n",
       "<table border=\"1\" class=\"dataframe\">\n",
       "  <thead>\n",
       "    <tr style=\"text-align: right;\">\n",
       "      <th></th>\n",
       "      <th>movie_id</th>\n",
       "      <th>title</th>\n",
       "      <th>tags</th>\n",
       "    </tr>\n",
       "  </thead>\n",
       "  <tbody>\n",
       "    <tr>\n",
       "      <th>0</th>\n",
       "      <td>19995</td>\n",
       "      <td>Avatar</td>\n",
       "      <td>in the 22nd century, a parapleg marin is dispa...</td>\n",
       "    </tr>\n",
       "  </tbody>\n",
       "</table>\n",
       "</div>"
      ],
      "text/plain": [
       "   movie_id   title                                               tags\n",
       "0     19995  Avatar  in the 22nd century, a parapleg marin is dispa..."
      ]
     },
     "execution_count": 61,
     "metadata": {},
     "output_type": "execute_result"
    }
   ],
   "source": [
    "new_df[new_df['title']=='Avatar']"
   ]
  },
  {
   "cell_type": "code",
   "execution_count": 62,
   "metadata": {},
   "outputs": [
    {
     "data": {
      "text/plain": [
       "0"
      ]
     },
     "execution_count": 62,
     "metadata": {},
     "output_type": "execute_result"
    }
   ],
   "source": [
    "new_df[new_df['title']=='Avatar'].index[0]"
   ]
  },
  {
   "cell_type": "code",
   "execution_count": 63,
   "metadata": {},
   "outputs": [
    {
     "data": {
      "text/plain": [
       "119"
      ]
     },
     "execution_count": 63,
     "metadata": {},
     "output_type": "execute_result"
    }
   ],
   "source": [
    "new_df[new_df['title']=='Batman Begins'].index[0]"
   ]
  },
  {
   "cell_type": "code",
   "execution_count": 64,
   "metadata": {},
   "outputs": [
    {
     "name": "stdout",
     "output_type": "stream",
     "text": [
      "The Dark Knight Rises\n",
      "The Dark Knight\n",
      "Superman\n",
      "The Fifth Element\n",
      "The Departed\n"
     ]
    }
   ],
   "source": [
    "recommend('Batman Begins')"
   ]
  },
  {
   "cell_type": "code",
   "execution_count": 65,
   "metadata": {},
   "outputs": [],
   "source": [
    "pickle.dump(similarity,open('similarity.pkl','wb'))"
   ]
  },
  {
   "cell_type": "code",
   "execution_count": null,
   "metadata": {},
   "outputs": [],
   "source": []
  },
  {
   "cell_type": "code",
   "execution_count": null,
   "metadata": {},
   "outputs": [],
   "source": []
  }
 ],
 "metadata": {
  "kernelspec": {
   "display_name": "Python 3 (ipykernel)",
   "language": "python",
   "name": "python3"
  },
  "language_info": {
   "codemirror_mode": {
    "name": "ipython",
    "version": 3
   },
   "file_extension": ".py",
   "mimetype": "text/x-python",
   "name": "python",
   "nbconvert_exporter": "python",
   "pygments_lexer": "ipython3",
   "version": "3.11.5"
  }
 },
 "nbformat": 4,
 "nbformat_minor": 2
}
